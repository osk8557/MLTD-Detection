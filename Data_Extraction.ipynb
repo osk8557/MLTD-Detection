{
 "cells": [
  {
   "cell_type": "code",
   "execution_count": 13,
   "id": "287d2a3b-0748-4424-901e-f5b0f183f10d",
   "metadata": {},
   "outputs": [
    {
     "name": "stderr",
     "output_type": "stream",
     "text": [
      "[nltk_data] Downloading package stopwords to\n",
      "[nltk_data]     /Users/omkarkhanvilkar/nltk_data...\n",
      "[nltk_data]   Package stopwords is already up-to-date!\n",
      "[nltk_data] Downloading package punkt to\n",
      "[nltk_data]     /Users/omkarkhanvilkar/nltk_data...\n",
      "[nltk_data]   Package punkt is already up-to-date!\n"
     ]
    },
    {
     "data": {
      "text/plain": [
       "True"
      ]
     },
     "execution_count": 13,
     "metadata": {},
     "output_type": "execute_result"
    }
   ],
   "source": [
    "import pandas as pd\n",
    "from nltk.corpus import stopwords\n",
    "from collections import Counter\n",
    "from nltk.tokenize import word_tokenize\n",
    "import nltk\n",
    "import re\n",
    "import matplotlib.pyplot as plt\n",
    "nltk.download('stopwords')\n",
    "nltk.download('punkt')"
   ]
  },
  {
   "cell_type": "code",
   "execution_count": 14,
   "id": "9771c61c-86e9-48cb-ba73-8d0430069ce6",
   "metadata": {},
   "outputs": [],
   "source": [
    "df_tools = pd.read_csv(\"13-tools.csv\")"
   ]
  },
  {
   "cell_type": "code",
   "execution_count": 15,
   "id": "b935cd00-e31e-47da-af60-d00c48485cbf",
   "metadata": {},
   "outputs": [],
   "source": [
    "df_app = pd.read_csv(\"13-apps.csv\")"
   ]
  },
  {
   "cell_type": "code",
   "execution_count": 16,
   "id": "ac4bde2b-a862-4b7a-95d1-dac7dc0acb4f",
   "metadata": {},
   "outputs": [
    {
     "data": {
      "text/html": [
       "<div>\n",
       "<style scoped>\n",
       "    .dataframe tbody tr th:only-of-type {\n",
       "        vertical-align: middle;\n",
       "    }\n",
       "\n",
       "    .dataframe tbody tr th {\n",
       "        vertical-align: top;\n",
       "    }\n",
       "\n",
       "    .dataframe thead th {\n",
       "        text-align: right;\n",
       "    }\n",
       "</style>\n",
       "<table border=\"1\" class=\"dataframe\">\n",
       "  <thead>\n",
       "    <tr style=\"text-align: right;\">\n",
       "      <th></th>\n",
       "      <th>A</th>\n",
       "      <th>B</th>\n",
       "      <th>C</th>\n",
       "      <th>D</th>\n",
       "      <th>E</th>\n",
       "      <th>F</th>\n",
       "    </tr>\n",
       "  </thead>\n",
       "  <tbody>\n",
       "    <tr>\n",
       "      <th>0</th>\n",
       "      <td>aaacgchgc</td>\n",
       "      <td>ealcobaca/pymfe</td>\n",
       "      <td>pymfe/complexity.py</td>\n",
       "      <td>2f9f04b156b38211e1c7e4dd83d89b293536e638</td>\n",
       "      <td>ef0851ba097fb99a539bd52a6cf0a6baa90e32d5</td>\n",
       "      <td>get min max for all columns by class</td>\n",
       "    </tr>\n",
       "    <tr>\n",
       "      <th>1</th>\n",
       "      <td>aaacgchge</td>\n",
       "      <td>ealcobaca/pymfe</td>\n",
       "      <td>pymfe/complexity.py</td>\n",
       "      <td>2f9f04b156b38211e1c7e4dd83d89b293536e638</td>\n",
       "      <td>ef0851ba097fb99a539bd52a6cf0a6baa90e32d5</td>\n",
       "      <td>columns. --&gt; features</td>\n",
       "    </tr>\n",
       "    <tr>\n",
       "      <th>2</th>\n",
       "      <td>aaacgchgg</td>\n",
       "      <td>ealcobaca/pymfe</td>\n",
       "      <td>pymfe/complexity.py</td>\n",
       "      <td>55be17a227ae8d93ccaa4f43de33077068dd695b</td>\n",
       "      <td>STILL_EXISTS</td>\n",
       "      <td>I think we could improve this part of the code</td>\n",
       "    </tr>\n",
       "    <tr>\n",
       "      <th>3</th>\n",
       "      <td>aaacgchha</td>\n",
       "      <td>ealcobaca/pymfe</td>\n",
       "      <td>pymfe/complexity.py</td>\n",
       "      <td>9349988f7ff657c015c832b69a6db1a24bb4675d</td>\n",
       "      <td>STILL_EXISTS</td>\n",
       "      <td>removing the most efficient feature</td>\n",
       "    </tr>\n",
       "    <tr>\n",
       "      <th>4</th>\n",
       "      <td>aaacgdhci</td>\n",
       "      <td>ealcobaca/pymfe</td>\n",
       "      <td>pymfe/complexity.py</td>\n",
       "      <td>70e58ce4494a521fabb30b96657629b9542b63f1</td>\n",
       "      <td>2d382ec699f34b2b76c1b4be235f4fab426ba594</td>\n",
       "      <td>TODO: the MFE (R version) implements the non-o...</td>\n",
       "    </tr>\n",
       "    <tr>\n",
       "      <th>...</th>\n",
       "      <td>...</td>\n",
       "      <td>...</td>\n",
       "      <td>...</td>\n",
       "      <td>...</td>\n",
       "      <td>...</td>\n",
       "      <td>...</td>\n",
       "    </tr>\n",
       "    <tr>\n",
       "      <th>40987</th>\n",
       "      <td>aajhbiabc</td>\n",
       "      <td>mozilla/TTS</td>\n",
       "      <td>layers/common_layers.py</td>\n",
       "      <td>926a4d36cedc9f53800f18196dbc27f80d9784c8</td>\n",
       "      <td>6f3dd1b6aedbb77de20b34b8494201c7d8af0c13</td>\n",
       "      <td>TODO try sigmoid here</td>\n",
       "    </tr>\n",
       "    <tr>\n",
       "      <th>40988</th>\n",
       "      <td>aajhbiceb</td>\n",
       "      <td>mozilla/TTS</td>\n",
       "      <td>utils/synthesis.py</td>\n",
       "      <td>bc6764a5c7c58463d2a879f54ca0cc390ca69070</td>\n",
       "      <td>8feb326a60fce455ba439d4e1fb7bf0e66642bd4</td>\n",
       "      <td>TODO: perform GL with pytorch for batching</td>\n",
       "    </tr>\n",
       "    <tr>\n",
       "      <th>40989</th>\n",
       "      <td>aajhbjgcf</td>\n",
       "      <td>mozilla/TTS</td>\n",
       "      <td>vocoder/layers/losses.py</td>\n",
       "      <td>3eb730acf0a660d96f3af78cde0f5379b72fb3c6</td>\n",
       "      <td>0bb0ba182e24ed84880f95f5f2dc8586409c6ff9</td>\n",
       "      <td>TODO: this might be wrong</td>\n",
       "    </tr>\n",
       "    <tr>\n",
       "      <th>40990</th>\n",
       "      <td>aajhcbejc</td>\n",
       "      <td>mozilla/TTS</td>\n",
       "      <td>TTS/tts/utils/generic_utils.py</td>\n",
       "      <td>9033070b8f622b3365162bcfaa20f57e77bb6f83</td>\n",
       "      <td>227b9c886429f3f8f8074f5377646cd5bbc58ba8</td>\n",
       "      <td>most stupid code ever -- Fix it !</td>\n",
       "    </tr>\n",
       "    <tr>\n",
       "      <th>40991</th>\n",
       "      <td>aajhcebid</td>\n",
       "      <td>mozilla/TTS</td>\n",
       "      <td>TTS/tts/utils/generic_utils.py</td>\n",
       "      <td>8e2dc79c3ad31922c8832bbb134aad26fdff13ba</td>\n",
       "      <td>cf02ace5b765b2b7d2d33220fb0b7e354b2b56c5</td>\n",
       "      <td>most stupid code ever -- Fix it !</td>\n",
       "    </tr>\n",
       "  </tbody>\n",
       "</table>\n",
       "<p>40992 rows × 6 columns</p>\n",
       "</div>"
      ],
      "text/plain": [
       "               A                B                               C  \\\n",
       "0      aaacgchgc  ealcobaca/pymfe             pymfe/complexity.py   \n",
       "1      aaacgchge  ealcobaca/pymfe             pymfe/complexity.py   \n",
       "2      aaacgchgg  ealcobaca/pymfe             pymfe/complexity.py   \n",
       "3      aaacgchha  ealcobaca/pymfe             pymfe/complexity.py   \n",
       "4      aaacgdhci  ealcobaca/pymfe             pymfe/complexity.py   \n",
       "...          ...              ...                             ...   \n",
       "40987  aajhbiabc      mozilla/TTS         layers/common_layers.py   \n",
       "40988  aajhbiceb      mozilla/TTS              utils/synthesis.py   \n",
       "40989  aajhbjgcf      mozilla/TTS        vocoder/layers/losses.py   \n",
       "40990  aajhcbejc      mozilla/TTS  TTS/tts/utils/generic_utils.py   \n",
       "40991  aajhcebid      mozilla/TTS  TTS/tts/utils/generic_utils.py   \n",
       "\n",
       "                                              D  \\\n",
       "0      2f9f04b156b38211e1c7e4dd83d89b293536e638   \n",
       "1      2f9f04b156b38211e1c7e4dd83d89b293536e638   \n",
       "2      55be17a227ae8d93ccaa4f43de33077068dd695b   \n",
       "3      9349988f7ff657c015c832b69a6db1a24bb4675d   \n",
       "4      70e58ce4494a521fabb30b96657629b9542b63f1   \n",
       "...                                         ...   \n",
       "40987  926a4d36cedc9f53800f18196dbc27f80d9784c8   \n",
       "40988  bc6764a5c7c58463d2a879f54ca0cc390ca69070   \n",
       "40989  3eb730acf0a660d96f3af78cde0f5379b72fb3c6   \n",
       "40990  9033070b8f622b3365162bcfaa20f57e77bb6f83   \n",
       "40991  8e2dc79c3ad31922c8832bbb134aad26fdff13ba   \n",
       "\n",
       "                                              E  \\\n",
       "0      ef0851ba097fb99a539bd52a6cf0a6baa90e32d5   \n",
       "1      ef0851ba097fb99a539bd52a6cf0a6baa90e32d5   \n",
       "2                                  STILL_EXISTS   \n",
       "3                                  STILL_EXISTS   \n",
       "4      2d382ec699f34b2b76c1b4be235f4fab426ba594   \n",
       "...                                         ...   \n",
       "40987  6f3dd1b6aedbb77de20b34b8494201c7d8af0c13   \n",
       "40988  8feb326a60fce455ba439d4e1fb7bf0e66642bd4   \n",
       "40989  0bb0ba182e24ed84880f95f5f2dc8586409c6ff9   \n",
       "40990  227b9c886429f3f8f8074f5377646cd5bbc58ba8   \n",
       "40991  cf02ace5b765b2b7d2d33220fb0b7e354b2b56c5   \n",
       "\n",
       "                                                       F  \n",
       "0                   get min max for all columns by class  \n",
       "1                                  columns. --> features  \n",
       "2         I think we could improve this part of the code  \n",
       "3                    removing the most efficient feature  \n",
       "4      TODO: the MFE (R version) implements the non-o...  \n",
       "...                                                  ...  \n",
       "40987                              TODO try sigmoid here  \n",
       "40988         TODO: perform GL with pytorch for batching  \n",
       "40989                          TODO: this might be wrong  \n",
       "40990                  most stupid code ever -- Fix it !  \n",
       "40991                  most stupid code ever -- Fix it !  \n",
       "\n",
       "[40992 rows x 6 columns]"
      ]
     },
     "execution_count": 16,
     "metadata": {},
     "output_type": "execute_result"
    }
   ],
   "source": [
    "df_app"
   ]
  },
  {
   "cell_type": "code",
   "execution_count": 17,
   "id": "7a72dbfe-4842-4dbd-9b3f-38dc45be0cd4",
   "metadata": {},
   "outputs": [],
   "source": [
    "df_tools['link'] = \"https://github.com/\" + df_tools['B'] + \"/\" + \"commit/\" + df_tools['D']"
   ]
  },
  {
   "cell_type": "code",
   "execution_count": 18,
   "id": "6ad5b04a-ee23-4d6e-a6ff-100882862c4b",
   "metadata": {},
   "outputs": [],
   "source": [
    "df_app['link'] = \"https://github.com/\" + df_app['B'] + \"/\" + \"commit/\" + df_app['D']"
   ]
  },
  {
   "cell_type": "code",
   "execution_count": 19,
   "id": "36ff120b-49b1-41ab-bb4c-891fe00d6636",
   "metadata": {},
   "outputs": [],
   "source": [
    "df_app = df_app.iloc[:, -2:]"
   ]
  },
  {
   "cell_type": "code",
   "execution_count": 20,
   "id": "a8199a58-dec0-4e7f-826d-3613b67c2057",
   "metadata": {},
   "outputs": [],
   "source": [
    "df_tools = df_tools.iloc[:, -2:]"
   ]
  },
  {
   "cell_type": "code",
   "execution_count": 21,
   "id": "1e174ffc-dcaf-4b88-b37f-370dcd497822",
   "metadata": {},
   "outputs": [],
   "source": [
    "# Define the regular expression pattern to match function names with words joined by underscores\n",
    "pattern = r'\\b[a-zA-Z_][a-zA-Z0-9_]*(?:_[a-zA-Z0-9_]+)+\\b'\n",
    "\n",
    "# Function to replace function names in comments with \"function_name\"\n",
    "def replace_function_names(comment):\n",
    "    if isinstance(comment, str):\n",
    "        return re.sub(pattern, 'function_name', comment)\n",
    "    else:\n",
    "        return comment\n",
    "\n",
    "# Apply the function to replace function names in the 'comments' column\n",
    "df_tools['F'] = df_tools['F'].apply(replace_function_names)"
   ]
  },
  {
   "cell_type": "code",
   "execution_count": 22,
   "id": "ac33ab5e-2e7b-493e-a3a9-7a492417c76a",
   "metadata": {},
   "outputs": [],
   "source": [
    "pattern = r'\\b[a-zA-Z_][a-zA-Z0-9_]*(?:_[a-zA-Z0-9_]+)+\\b'\n",
    "\n",
    "# Function to replace function names in comments with \"function_name\"\n",
    "def replace_function_names(comment):\n",
    "    return re.sub(pattern, 'function_name', comment)\n",
    "\n",
    "# Apply the function to replace function names in the 'comments' column\n",
    "df_app['F'] = df_app['F'].apply(replace_function_names)\n"
   ]
  },
  {
   "cell_type": "code",
   "execution_count": 23,
   "id": "f3687350-acc2-48e8-b8b3-99f847ac6813",
   "metadata": {},
   "outputs": [
    {
     "data": {
      "text/html": [
       "<div>\n",
       "<style scoped>\n",
       "    .dataframe tbody tr th:only-of-type {\n",
       "        vertical-align: middle;\n",
       "    }\n",
       "\n",
       "    .dataframe tbody tr th {\n",
       "        vertical-align: top;\n",
       "    }\n",
       "\n",
       "    .dataframe thead th {\n",
       "        text-align: right;\n",
       "    }\n",
       "</style>\n",
       "<table border=\"1\" class=\"dataframe\">\n",
       "  <thead>\n",
       "    <tr style=\"text-align: right;\">\n",
       "      <th></th>\n",
       "      <th>F</th>\n",
       "      <th>link</th>\n",
       "    </tr>\n",
       "  </thead>\n",
       "  <tbody>\n",
       "    <tr>\n",
       "      <th>0</th>\n",
       "      <td>get min max for all columns by class</td>\n",
       "      <td>https://github.com/ealcobaca/pymfe/commit/2f9f...</td>\n",
       "    </tr>\n",
       "    <tr>\n",
       "      <th>1</th>\n",
       "      <td>columns. --&gt; features</td>\n",
       "      <td>https://github.com/ealcobaca/pymfe/commit/2f9f...</td>\n",
       "    </tr>\n",
       "    <tr>\n",
       "      <th>2</th>\n",
       "      <td>I think we could improve this part of the code</td>\n",
       "      <td>https://github.com/ealcobaca/pymfe/commit/55be...</td>\n",
       "    </tr>\n",
       "    <tr>\n",
       "      <th>3</th>\n",
       "      <td>removing the most efficient feature</td>\n",
       "      <td>https://github.com/ealcobaca/pymfe/commit/9349...</td>\n",
       "    </tr>\n",
       "    <tr>\n",
       "      <th>4</th>\n",
       "      <td>TODO: the MFE (R version) implements the non-o...</td>\n",
       "      <td>https://github.com/ealcobaca/pymfe/commit/70e5...</td>\n",
       "    </tr>\n",
       "    <tr>\n",
       "      <th>...</th>\n",
       "      <td>...</td>\n",
       "      <td>...</td>\n",
       "    </tr>\n",
       "    <tr>\n",
       "      <th>40987</th>\n",
       "      <td>TODO try sigmoid here</td>\n",
       "      <td>https://github.com/mozilla/TTS/commit/926a4d36...</td>\n",
       "    </tr>\n",
       "    <tr>\n",
       "      <th>40988</th>\n",
       "      <td>TODO: perform GL with pytorch for batching</td>\n",
       "      <td>https://github.com/mozilla/TTS/commit/bc6764a5...</td>\n",
       "    </tr>\n",
       "    <tr>\n",
       "      <th>40989</th>\n",
       "      <td>TODO: this might be wrong</td>\n",
       "      <td>https://github.com/mozilla/TTS/commit/3eb730ac...</td>\n",
       "    </tr>\n",
       "    <tr>\n",
       "      <th>40990</th>\n",
       "      <td>most stupid code ever -- Fix it !</td>\n",
       "      <td>https://github.com/mozilla/TTS/commit/9033070b...</td>\n",
       "    </tr>\n",
       "    <tr>\n",
       "      <th>40991</th>\n",
       "      <td>most stupid code ever -- Fix it !</td>\n",
       "      <td>https://github.com/mozilla/TTS/commit/8e2dc79c...</td>\n",
       "    </tr>\n",
       "  </tbody>\n",
       "</table>\n",
       "<p>40992 rows × 2 columns</p>\n",
       "</div>"
      ],
      "text/plain": [
       "                                                       F  \\\n",
       "0                   get min max for all columns by class   \n",
       "1                                  columns. --> features   \n",
       "2         I think we could improve this part of the code   \n",
       "3                    removing the most efficient feature   \n",
       "4      TODO: the MFE (R version) implements the non-o...   \n",
       "...                                                  ...   \n",
       "40987                              TODO try sigmoid here   \n",
       "40988         TODO: perform GL with pytorch for batching   \n",
       "40989                          TODO: this might be wrong   \n",
       "40990                  most stupid code ever -- Fix it !   \n",
       "40991                  most stupid code ever -- Fix it !   \n",
       "\n",
       "                                                    link  \n",
       "0      https://github.com/ealcobaca/pymfe/commit/2f9f...  \n",
       "1      https://github.com/ealcobaca/pymfe/commit/2f9f...  \n",
       "2      https://github.com/ealcobaca/pymfe/commit/55be...  \n",
       "3      https://github.com/ealcobaca/pymfe/commit/9349...  \n",
       "4      https://github.com/ealcobaca/pymfe/commit/70e5...  \n",
       "...                                                  ...  \n",
       "40987  https://github.com/mozilla/TTS/commit/926a4d36...  \n",
       "40988  https://github.com/mozilla/TTS/commit/bc6764a5...  \n",
       "40989  https://github.com/mozilla/TTS/commit/3eb730ac...  \n",
       "40990  https://github.com/mozilla/TTS/commit/9033070b...  \n",
       "40991  https://github.com/mozilla/TTS/commit/8e2dc79c...  \n",
       "\n",
       "[40992 rows x 2 columns]"
      ]
     },
     "execution_count": 23,
     "metadata": {},
     "output_type": "execute_result"
    }
   ],
   "source": [
    "df_app"
   ]
  },
  {
   "cell_type": "code",
   "execution_count": 24,
   "id": "5595f01e-9123-4b19-a53c-31b18416be04",
   "metadata": {},
   "outputs": [],
   "source": [
    "df_tools['F'] = df_tools['F'].str.replace(r'[^a-zA-Z0-9\\s]', '', regex=True).str.lower()"
   ]
  },
  {
   "cell_type": "code",
   "execution_count": 25,
   "id": "4a32bffd-56db-4377-876b-9d6911f1d5da",
   "metadata": {},
   "outputs": [],
   "source": [
    "df_app['F'] = df_app['F'].str.replace(r'[^a-zA-Z0-9\\s]', '', regex=True).str.lower()"
   ]
  },
  {
   "cell_type": "code",
   "execution_count": 26,
   "id": "b948ce8c-cbf3-42b2-8e6c-2193f9253691",
   "metadata": {},
   "outputs": [],
   "source": [
    "result_df = pd.concat([df_tools, df_app], axis=0, ignore_index=True)"
   ]
  },
  {
   "cell_type": "code",
   "execution_count": 27,
   "id": "eed6e545-1e62-472f-8bd1-fe154590fed2",
   "metadata": {},
   "outputs": [],
   "source": [
    "# Keep only unique entries\n",
    "unique_df = result_df.drop_duplicates()"
   ]
  },
  {
   "cell_type": "code",
   "execution_count": 28,
   "id": "ffbb19d9-868b-4a42-8ddf-d337c15b835d",
   "metadata": {},
   "outputs": [
    {
     "name": "stderr",
     "output_type": "stream",
     "text": [
      "/var/folders/gs/zcwj00xj1v5bjtgk63027r4h0000gn/T/ipykernel_27783/1595382541.py:1: SettingWithCopyWarning: \n",
      "A value is trying to be set on a copy of a slice from a DataFrame.\n",
      "Try using .loc[row_indexer,col_indexer] = value instead\n",
      "\n",
      "See the caveats in the documentation: https://pandas.pydata.org/pandas-docs/stable/user_guide/indexing.html#returning-a-view-versus-a-copy\n",
      "  unique_df['F'] = unique_df['F'].drop_duplicates()\n"
     ]
    }
   ],
   "source": [
    "unique_df['F'] = unique_df['F'].drop_duplicates()"
   ]
  },
  {
   "cell_type": "code",
   "execution_count": 29,
   "id": "e781ae35-1e51-4edb-ad5c-c223ef9d982f",
   "metadata": {},
   "outputs": [],
   "source": [
    "duplicates_count = unique_df['F'].duplicated().sum()"
   ]
  },
  {
   "cell_type": "code",
   "execution_count": 30,
   "id": "5ed67aeb-8e85-4f7f-ba09-cd4b96e09a65",
   "metadata": {},
   "outputs": [],
   "source": [
    "df_unique = unique_df.drop_duplicates(subset=['F'])"
   ]
  },
  {
   "cell_type": "code",
   "execution_count": 31,
   "id": "288bd9c5-3118-436c-aab8-1e2516416d2a",
   "metadata": {},
   "outputs": [],
   "source": [
    "df_unique.reset_index(inplace=True,drop=True)"
   ]
  },
  {
   "cell_type": "code",
   "execution_count": 32,
   "id": "d37b5a3e-a592-4a79-8978-20be14c37037",
   "metadata": {},
   "outputs": [
    {
     "data": {
      "text/html": [
       "<div>\n",
       "<style scoped>\n",
       "    .dataframe tbody tr th:only-of-type {\n",
       "        vertical-align: middle;\n",
       "    }\n",
       "\n",
       "    .dataframe tbody tr th {\n",
       "        vertical-align: top;\n",
       "    }\n",
       "\n",
       "    .dataframe thead th {\n",
       "        text-align: right;\n",
       "    }\n",
       "</style>\n",
       "<table border=\"1\" class=\"dataframe\">\n",
       "  <thead>\n",
       "    <tr style=\"text-align: right;\">\n",
       "      <th></th>\n",
       "      <th>F</th>\n",
       "      <th>link</th>\n",
       "    </tr>\n",
       "  </thead>\n",
       "  <tbody>\n",
       "    <tr>\n",
       "      <th>0</th>\n",
       "      <td>todo this function needs a generalisation to l...</td>\n",
       "      <td>https://github.com/georgesterpu/avsr-tf1/commi...</td>\n",
       "    </tr>\n",
       "    <tr>\n",
       "      <th>1</th>\n",
       "      <td>todo cba two stacked lists of inputs</td>\n",
       "      <td>https://github.com/georgesterpu/avsr-tf1/commi...</td>\n",
       "    </tr>\n",
       "    <tr>\n",
       "      <th>2</th>\n",
       "      <td>area better when decimating</td>\n",
       "      <td>https://github.com/georgesterpu/avsr-tf1/commi...</td>\n",
       "    </tr>\n",
       "    <tr>\n",
       "      <th>3</th>\n",
       "      <td>todo potentially broken please recheck</td>\n",
       "      <td>https://github.com/georgesterpu/avsr-tf1/commi...</td>\n",
       "    </tr>\n",
       "    <tr>\n",
       "      <th>4</th>\n",
       "      <td>r  todo     properly normalise the scores   to...</td>\n",
       "      <td>https://github.com/georgesterpu/avsr-tf1/commi...</td>\n",
       "    </tr>\n",
       "    <tr>\n",
       "      <th>...</th>\n",
       "      <td>...</td>\n",
       "      <td>...</td>\n",
       "    </tr>\n",
       "    <tr>\n",
       "      <th>42959</th>\n",
       "      <td>fixme missing functionname parameter to tacotr...</td>\n",
       "      <td>https://github.com/mozilla/TTS/commit/11e78953...</td>\n",
       "    </tr>\n",
       "    <tr>\n",
       "      <th>42960</th>\n",
       "      <td>fixme missing functionname parameter to tacotr...</td>\n",
       "      <td>https://github.com/mozilla/TTS/commit/11e78953...</td>\n",
       "    </tr>\n",
       "    <tr>\n",
       "      <th>42961</th>\n",
       "      <td>todo try sigmoid here</td>\n",
       "      <td>https://github.com/mozilla/TTS/commit/926a4d36...</td>\n",
       "    </tr>\n",
       "    <tr>\n",
       "      <th>42962</th>\n",
       "      <td>todo perform gl with pytorch for batching</td>\n",
       "      <td>https://github.com/mozilla/TTS/commit/bc6764a5...</td>\n",
       "    </tr>\n",
       "    <tr>\n",
       "      <th>42963</th>\n",
       "      <td>most stupid code ever  fix it</td>\n",
       "      <td>https://github.com/mozilla/TTS/commit/9033070b...</td>\n",
       "    </tr>\n",
       "  </tbody>\n",
       "</table>\n",
       "<p>42964 rows × 2 columns</p>\n",
       "</div>"
      ],
      "text/plain": [
       "                                                       F  \\\n",
       "0      todo this function needs a generalisation to l...   \n",
       "1                   todo cba two stacked lists of inputs   \n",
       "2                            area better when decimating   \n",
       "3                 todo potentially broken please recheck   \n",
       "4      r  todo     properly normalise the scores   to...   \n",
       "...                                                  ...   \n",
       "42959  fixme missing functionname parameter to tacotr...   \n",
       "42960  fixme missing functionname parameter to tacotr...   \n",
       "42961                              todo try sigmoid here   \n",
       "42962          todo perform gl with pytorch for batching   \n",
       "42963                     most stupid code ever  fix it    \n",
       "\n",
       "                                                    link  \n",
       "0      https://github.com/georgesterpu/avsr-tf1/commi...  \n",
       "1      https://github.com/georgesterpu/avsr-tf1/commi...  \n",
       "2      https://github.com/georgesterpu/avsr-tf1/commi...  \n",
       "3      https://github.com/georgesterpu/avsr-tf1/commi...  \n",
       "4      https://github.com/georgesterpu/avsr-tf1/commi...  \n",
       "...                                                  ...  \n",
       "42959  https://github.com/mozilla/TTS/commit/11e78953...  \n",
       "42960  https://github.com/mozilla/TTS/commit/11e78953...  \n",
       "42961  https://github.com/mozilla/TTS/commit/926a4d36...  \n",
       "42962  https://github.com/mozilla/TTS/commit/bc6764a5...  \n",
       "42963  https://github.com/mozilla/TTS/commit/9033070b...  \n",
       "\n",
       "[42964 rows x 2 columns]"
      ]
     },
     "execution_count": 32,
     "metadata": {},
     "output_type": "execute_result"
    }
   ],
   "source": [
    "df_unique"
   ]
  },
  {
   "cell_type": "code",
   "execution_count": 33,
   "id": "745ec4e9-52c8-4170-9a7a-8df709185319",
   "metadata": {},
   "outputs": [
    {
     "name": "stdout",
     "output_type": "stream",
     "text": [
      "Top 50 words and their counts:\n",
      "[('todo', 21184), ('functionname', 7909), ('needed', 3592), ('columns', 2721), ('xxx', 2271), ('use', 2153), ('add', 2129), ('data', 2056), ('fixme', 2000), ('model', 1653), ('better', 1650), ('fix', 1586), ('check', 1399), ('make', 1332), ('implement', 1302), ('remove', 1257), ('test', 1245), ('move', 1208), ('need', 1174), ('hack', 1119), ('set', 1076), ('using', 1070), ('way', 1056), ('used', 1022), ('class', 1013), ('one', 960), ('function', 938), ('file', 907), ('maybe', 890), ('code', 880), ('number', 862), ('array', 846), ('python', 846), ('support', 841), ('example', 808), ('work', 803), ('also', 793), ('method', 762), ('return', 745), ('new', 729), ('get', 719), ('values', 716), ('list', 710), ('training', 708), ('instead', 676), ('module', 670), ('type', 670), ('may', 663), ('x', 662), ('handle', 653)]\n"
     ]
    }
   ],
   "source": [
    "stop_words = set(stopwords.words('english'))\n",
    "word_counts = Counter()\n",
    "for sentence in df_unique['F']:\n",
    "    if pd.notna(sentence):  # Check for NaN values\n",
    "        words = word_tokenize(str(sentence).lower())  # Tokenize and convert to lowercase\n",
    "        filtered_words = [word for word in words if word.isalpha() and word not in stop_words]\n",
    "        word_counts.update(filtered_words)\n",
    "\n",
    "# Get the top 50 word counts\n",
    "top_50_words = word_counts.most_common(50)\n",
    "\n",
    "print(\"Top 50 words and their counts:\")\n",
    "print(top_50_words)\n"
   ]
  },
  {
   "cell_type": "code",
   "execution_count": 34,
   "id": "a2a13bb4-ea04-444d-afef-5ae11d441ba8",
   "metadata": {},
   "outputs": [],
   "source": [
    "hyper_count = df_unique['F'].str.contains('performance', case=False, regex=True).sum()"
   ]
  },
  {
   "cell_type": "code",
   "execution_count": 35,
   "id": "9e044e69-a3f2-4e72-bea6-ef3e9e582288",
   "metadata": {},
   "outputs": [
    {
     "data": {
      "text/plain": [
       "344"
      ]
     },
     "execution_count": 35,
     "metadata": {},
     "output_type": "execute_result"
    }
   ],
   "source": [
    "hyper_count"
   ]
  },
  {
   "cell_type": "code",
   "execution_count": 36,
   "id": "e477e898-fbda-4ee3-89c3-7d5163a69c29",
   "metadata": {},
   "outputs": [],
   "source": [
    "both_count = df_unique['F'].str.contains('hyper', case=False, regex=True) & df_unique['F'].str.contains('param', case=False, regex=True)"
   ]
  },
  {
   "cell_type": "code",
   "execution_count": 37,
   "id": "dc94e0ee-3e16-497f-b6ee-cc2dd58b8941",
   "metadata": {},
   "outputs": [
    {
     "data": {
      "text/plain": [
       "False    42859\n",
       "True       105\n",
       "Name: F, dtype: int64"
      ]
     },
     "execution_count": 37,
     "metadata": {},
     "output_type": "execute_result"
    }
   ],
   "source": [
    "both_count.value_counts()"
   ]
  },
  {
   "cell_type": "code",
   "execution_count": 38,
   "id": "21fb8e5e-93c9-4844-a69d-1b9606b982fd",
   "metadata": {},
   "outputs": [],
   "source": [
    "#HYPER"
   ]
  },
  {
   "cell_type": "code",
   "execution_count": 39,
   "id": "9d39bd21-843d-48b6-a84e-2a41b29301a0",
   "metadata": {},
   "outputs": [],
   "source": [
    "df_hyper = df_unique[df_unique['F'].str.contains('hyper', case=False, regex=True,na=False)]"
   ]
  },
  {
   "cell_type": "code",
   "execution_count": 40,
   "id": "5aa9c632-7f98-4a5d-bdea-254a7405ae7f",
   "metadata": {},
   "outputs": [],
   "source": [
    "df_hyper.reset_index(inplace=True,drop=True)"
   ]
  },
  {
   "cell_type": "code",
   "execution_count": 41,
   "id": "33cc5a21-a579-4d50-a001-bf2d50f375e9",
   "metadata": {},
   "outputs": [
    {
     "data": {
      "text/html": [
       "<div>\n",
       "<style scoped>\n",
       "    .dataframe tbody tr th:only-of-type {\n",
       "        vertical-align: middle;\n",
       "    }\n",
       "\n",
       "    .dataframe tbody tr th {\n",
       "        vertical-align: top;\n",
       "    }\n",
       "\n",
       "    .dataframe thead th {\n",
       "        text-align: right;\n",
       "    }\n",
       "</style>\n",
       "<table border=\"1\" class=\"dataframe\">\n",
       "  <thead>\n",
       "    <tr style=\"text-align: right;\">\n",
       "      <th></th>\n",
       "      <th>F</th>\n",
       "      <th>link</th>\n",
       "    </tr>\n",
       "  </thead>\n",
       "  <tbody>\n",
       "    <tr>\n",
       "      <th>0</th>\n",
       "      <td>with hyperparameters functionname returns para...</td>\n",
       "      <td>https://github.com/openml/openml-python/commit...</td>\n",
       "    </tr>\n",
       "    <tr>\n",
       "      <th>1</th>\n",
       "      <td>perrone et al 2018      a tutorial on how to...</td>\n",
       "      <td>https://github.com/openml/openml-python/commit...</td>\n",
       "    </tr>\n",
       "    <tr>\n",
       "      <th>2</th>\n",
       "      <td>we can see all the hyperparameter names in the...</td>\n",
       "      <td>https://github.com/openml/openml-python/commit...</td>\n",
       "    </tr>\n",
       "    <tr>\n",
       "      <th>3</th>\n",
       "      <td>expert learning    this module regroups a vari...</td>\n",
       "      <td>https://github.com/online-ml/river/commit/4d2a...</td>\n",
       "    </tr>\n",
       "    <tr>\n",
       "      <th>4</th>\n",
       "      <td>fixme 2 assumes hyperthreading fix this properly</td>\n",
       "      <td>https://github.com/CPJKU/madmom/commit/7314fb5...</td>\n",
       "    </tr>\n",
       "    <tr>\n",
       "      <th>...</th>\n",
       "      <td>...</td>\n",
       "      <td>...</td>\n",
       "    </tr>\n",
       "    <tr>\n",
       "      <th>124</th>\n",
       "      <td>future tests to implement               ...</td>\n",
       "      <td>https://github.com/BYU-PCCL/holodeck/commit/7c...</td>\n",
       "    </tr>\n",
       "    <tr>\n",
       "      <th>125</th>\n",
       "      <td>todo for future needs for now hyperdash is too...</td>\n",
       "      <td>https://github.com/catalyst-team/catalyst/comm...</td>\n",
       "    </tr>\n",
       "    <tr>\n",
       "      <th>126</th>\n",
       "      <td>xxx no column hyper transitions in lovecat</td>\n",
       "      <td>https://github.com/probcomp/bayeslite/commit/7...</td>\n",
       "    </tr>\n",
       "    <tr>\n",
       "      <th>127</th>\n",
       "      <td>todo needs to also deploy the hyperparameter c...</td>\n",
       "      <td>https://github.com/autonomio/talos/commit/b764...</td>\n",
       "    </tr>\n",
       "    <tr>\n",
       "      <th>128</th>\n",
       "      <td>convert all hyperparameter columns to multi la...</td>\n",
       "      <td>https://github.com/autonomio/talos/commit/eed7...</td>\n",
       "    </tr>\n",
       "  </tbody>\n",
       "</table>\n",
       "<p>129 rows × 2 columns</p>\n",
       "</div>"
      ],
      "text/plain": [
       "                                                     F  \\\n",
       "0    with hyperparameters functionname returns para...   \n",
       "1      perrone et al 2018      a tutorial on how to...   \n",
       "2    we can see all the hyperparameter names in the...   \n",
       "3    expert learning    this module regroups a vari...   \n",
       "4     fixme 2 assumes hyperthreading fix this properly   \n",
       "..                                                 ...   \n",
       "124        future tests to implement               ...   \n",
       "125  todo for future needs for now hyperdash is too...   \n",
       "126         xxx no column hyper transitions in lovecat   \n",
       "127  todo needs to also deploy the hyperparameter c...   \n",
       "128  convert all hyperparameter columns to multi la...   \n",
       "\n",
       "                                                  link  \n",
       "0    https://github.com/openml/openml-python/commit...  \n",
       "1    https://github.com/openml/openml-python/commit...  \n",
       "2    https://github.com/openml/openml-python/commit...  \n",
       "3    https://github.com/online-ml/river/commit/4d2a...  \n",
       "4    https://github.com/CPJKU/madmom/commit/7314fb5...  \n",
       "..                                                 ...  \n",
       "124  https://github.com/BYU-PCCL/holodeck/commit/7c...  \n",
       "125  https://github.com/catalyst-team/catalyst/comm...  \n",
       "126  https://github.com/probcomp/bayeslite/commit/7...  \n",
       "127  https://github.com/autonomio/talos/commit/b764...  \n",
       "128  https://github.com/autonomio/talos/commit/eed7...  \n",
       "\n",
       "[129 rows x 2 columns]"
      ]
     },
     "execution_count": 41,
     "metadata": {},
     "output_type": "execute_result"
    }
   ],
   "source": [
    "df_hyper"
   ]
  },
  {
   "cell_type": "code",
   "execution_count": 42,
   "id": "6d4c771c-fcee-427a-9164-e105394cebbd",
   "metadata": {},
   "outputs": [],
   "source": [
    "df_hyper.to_excel(\"Extracted data/df_hyper.xlsx\",index=False)"
   ]
  },
  {
   "cell_type": "code",
   "execution_count": 43,
   "id": "b7de5993-fcbe-4e29-9fb0-69190040799c",
   "metadata": {},
   "outputs": [],
   "source": [
    "#LAYER"
   ]
  },
  {
   "cell_type": "code",
   "execution_count": 44,
   "id": "ff401c9b-1a4f-4756-a115-c20d6528838e",
   "metadata": {},
   "outputs": [],
   "source": [
    "df_layer = df_unique[df_unique['F'].str.contains('layer', case=False, regex=True,na=False)]"
   ]
  },
  {
   "cell_type": "code",
   "execution_count": 45,
   "id": "ec02f8b6-079a-43d2-b58f-06819fafb6e0",
   "metadata": {},
   "outputs": [],
   "source": [
    "df_layer.reset_index(inplace=True,drop=True)"
   ]
  },
  {
   "cell_type": "code",
   "execution_count": 46,
   "id": "95d20c1d-5168-4adc-b237-3e38ac27c261",
   "metadata": {},
   "outputs": [
    {
     "data": {
      "text/html": [
       "<div>\n",
       "<style scoped>\n",
       "    .dataframe tbody tr th:only-of-type {\n",
       "        vertical-align: middle;\n",
       "    }\n",
       "\n",
       "    .dataframe tbody tr th {\n",
       "        vertical-align: top;\n",
       "    }\n",
       "\n",
       "    .dataframe thead th {\n",
       "        text-align: right;\n",
       "    }\n",
       "</style>\n",
       "<table border=\"1\" class=\"dataframe\">\n",
       "  <thead>\n",
       "    <tr style=\"text-align: right;\">\n",
       "      <th></th>\n",
       "      <th>F</th>\n",
       "      <th>link</th>\n",
       "    </tr>\n",
       "  </thead>\n",
       "  <tbody>\n",
       "    <tr>\n",
       "      <th>0</th>\n",
       "      <td>todo more simple way to deserialize the layers...</td>\n",
       "      <td>https://github.com/tensorflow/addons/commit/f1...</td>\n",
       "    </tr>\n",
       "    <tr>\n",
       "      <th>1</th>\n",
       "      <td>todo fix the bug thats causing layer test to r...</td>\n",
       "      <td>https://github.com/tensorflow/addons/commit/28...</td>\n",
       "    </tr>\n",
       "    <tr>\n",
       "      <th>2</th>\n",
       "      <td>todo experiment with more layers</td>\n",
       "      <td>https://github.com/feedly/transfer-nlp/commit/...</td>\n",
       "    </tr>\n",
       "    <tr>\n",
       "      <th>3</th>\n",
       "      <td>unfreezing the fc2 layer for extra tuning if...</td>\n",
       "      <td>https://github.com/feedly/transfer-nlp/commit/...</td>\n",
       "    </tr>\n",
       "    <tr>\n",
       "      <th>4</th>\n",
       "      <td>this file contains models presented in the t...</td>\n",
       "      <td>https://github.com/feedly/transfer-nlp/commit/...</td>\n",
       "    </tr>\n",
       "    <tr>\n",
       "      <th>...</th>\n",
       "      <td>...</td>\n",
       "      <td>...</td>\n",
       "    </tr>\n",
       "    <tr>\n",
       "      <th>415</th>\n",
       "      <td>todo add support for any internal layer</td>\n",
       "      <td>https://github.com/pyannote/pyannote-audio/com...</td>\n",
       "    </tr>\n",
       "    <tr>\n",
       "      <th>416</th>\n",
       "      <td>needed to register pyannoteaudios own keras la...</td>\n",
       "      <td>https://github.com/pyannote/pyannote-audio/com...</td>\n",
       "    </tr>\n",
       "    <tr>\n",
       "      <th>417</th>\n",
       "      <td>todo learn feature normalization and store it ...</td>\n",
       "      <td>https://github.com/pyannote/pyannote-audio/com...</td>\n",
       "    </tr>\n",
       "    <tr>\n",
       "      <th>418</th>\n",
       "      <td>todo add option to not use bias in classificat...</td>\n",
       "      <td>https://github.com/pyannote/pyannote-audio/com...</td>\n",
       "    </tr>\n",
       "    <tr>\n",
       "      <th>419</th>\n",
       "      <td>xxx cargoculted from old persistence layers fu...</td>\n",
       "      <td>https://github.com/probcomp/bayeslite/commit/4...</td>\n",
       "    </tr>\n",
       "  </tbody>\n",
       "</table>\n",
       "<p>420 rows × 2 columns</p>\n",
       "</div>"
      ],
      "text/plain": [
       "                                                     F  \\\n",
       "0    todo more simple way to deserialize the layers...   \n",
       "1    todo fix the bug thats causing layer test to r...   \n",
       "2                     todo experiment with more layers   \n",
       "3      unfreezing the fc2 layer for extra tuning if...   \n",
       "4      this file contains models presented in the t...   \n",
       "..                                                 ...   \n",
       "415            todo add support for any internal layer   \n",
       "416  needed to register pyannoteaudios own keras la...   \n",
       "417  todo learn feature normalization and store it ...   \n",
       "418  todo add option to not use bias in classificat...   \n",
       "419  xxx cargoculted from old persistence layers fu...   \n",
       "\n",
       "                                                  link  \n",
       "0    https://github.com/tensorflow/addons/commit/f1...  \n",
       "1    https://github.com/tensorflow/addons/commit/28...  \n",
       "2    https://github.com/feedly/transfer-nlp/commit/...  \n",
       "3    https://github.com/feedly/transfer-nlp/commit/...  \n",
       "4    https://github.com/feedly/transfer-nlp/commit/...  \n",
       "..                                                 ...  \n",
       "415  https://github.com/pyannote/pyannote-audio/com...  \n",
       "416  https://github.com/pyannote/pyannote-audio/com...  \n",
       "417  https://github.com/pyannote/pyannote-audio/com...  \n",
       "418  https://github.com/pyannote/pyannote-audio/com...  \n",
       "419  https://github.com/probcomp/bayeslite/commit/4...  \n",
       "\n",
       "[420 rows x 2 columns]"
      ]
     },
     "execution_count": 46,
     "metadata": {},
     "output_type": "execute_result"
    }
   ],
   "source": [
    "df_layer"
   ]
  },
  {
   "cell_type": "code",
   "execution_count": 47,
   "id": "7f0e86f2-b01f-4959-8bf0-d94c28ae467c",
   "metadata": {},
   "outputs": [],
   "source": [
    "df_layer.to_excel(\"Extracted data/df_layer.xlsx\",index=False)"
   ]
  },
  {
   "cell_type": "code",
   "execution_count": 48,
   "id": "5be1b07c-9896-46fa-a29d-0474c5c1fe51",
   "metadata": {},
   "outputs": [],
   "source": [
    "#duplicate"
   ]
  },
  {
   "cell_type": "code",
   "execution_count": 49,
   "id": "ebd92281-eee7-4d3e-a5c0-fb68b651cb39",
   "metadata": {},
   "outputs": [],
   "source": [
    "df_duplicate = df_unique[df_unique['F'].str.contains('duplicate', case=False, regex=True) |df_unique['F'].str.contains('repeat', case=False, regex=True)]"
   ]
  },
  {
   "cell_type": "code",
   "execution_count": 50,
   "id": "c7bd84fc-0f4a-4204-954f-62a6234ba256",
   "metadata": {},
   "outputs": [],
   "source": [
    "df_duplicate.reset_index(inplace=True,drop=True)"
   ]
  },
  {
   "cell_type": "code",
   "execution_count": 51,
   "id": "8e73edfd-8629-436f-a06a-bc30b192b192",
   "metadata": {},
   "outputs": [
    {
     "data": {
      "text/plain": [
       "'todo remove duplicate code with files'"
      ]
     },
     "execution_count": 51,
     "metadata": {},
     "output_type": "execute_result"
    }
   ],
   "source": [
    "df_duplicate['F'][5]"
   ]
  },
  {
   "cell_type": "code",
   "execution_count": 52,
   "id": "b3bf007b-7614-412d-8e75-49e2cc66ca63",
   "metadata": {},
   "outputs": [],
   "source": [
    "df_duplicate.to_excel(\"Extracted data/df_duplicate.xlsx\",index=False)"
   ]
  },
  {
   "cell_type": "code",
   "execution_count": 53,
   "id": "a673a16d-cd37-43c6-bb69-d17b0432e954",
   "metadata": {},
   "outputs": [],
   "source": [
    "#model"
   ]
  },
  {
   "cell_type": "code",
   "execution_count": 54,
   "id": "f3e778d5-9f23-45b5-9df2-d510a16889c9",
   "metadata": {},
   "outputs": [],
   "source": [
    "df_model = df_unique[df_unique['F'].str.contains('model', case=False, regex=True,na=False)]"
   ]
  },
  {
   "cell_type": "code",
   "execution_count": 55,
   "id": "befa4a0c-d441-4b13-8f76-ddbb1b5d5f41",
   "metadata": {},
   "outputs": [],
   "source": [
    "df_model.reset_index(inplace=True,drop=True)"
   ]
  },
  {
   "cell_type": "code",
   "execution_count": 56,
   "id": "05ca93ce-68c8-49b4-b244-2e9e5185f7e9",
   "metadata": {},
   "outputs": [
    {
     "data": {
      "text/html": [
       "<div>\n",
       "<style scoped>\n",
       "    .dataframe tbody tr th:only-of-type {\n",
       "        vertical-align: middle;\n",
       "    }\n",
       "\n",
       "    .dataframe tbody tr th {\n",
       "        vertical-align: top;\n",
       "    }\n",
       "\n",
       "    .dataframe thead th {\n",
       "        text-align: right;\n",
       "    }\n",
       "</style>\n",
       "<table border=\"1\" class=\"dataframe\">\n",
       "  <thead>\n",
       "    <tr style=\"text-align: right;\">\n",
       "      <th></th>\n",
       "      <th>F</th>\n",
       "      <th>link</th>\n",
       "    </tr>\n",
       "  </thead>\n",
       "  <tbody>\n",
       "    <tr>\n",
       "      <th>0</th>\n",
       "      <td>todo use modelforge to save the model</td>\n",
       "      <td>https://github.com/src-d/ml/commit/4bdc930b3ed...</td>\n",
       "    </tr>\n",
       "    <tr>\n",
       "      <th>1</th>\n",
       "      <td>while serializing the model with joblib is oft...</td>\n",
       "      <td>https://github.com/openml/openml-python/commit...</td>\n",
       "    </tr>\n",
       "    <tr>\n",
       "      <th>2</th>\n",
       "      <td>todo if possible give a warning if model is al...</td>\n",
       "      <td>https://github.com/openml/openml-python/commit...</td>\n",
       "    </tr>\n",
       "    <tr>\n",
       "      <th>3</th>\n",
       "      <td>todo add test about initializing a model from ...</td>\n",
       "      <td>https://github.com/openml/openml-python/commit...</td>\n",
       "    </tr>\n",
       "    <tr>\n",
       "      <th>4</th>\n",
       "      <td>fixme strmodel might contain</td>\n",
       "      <td>https://github.com/openml/openml-python/commit...</td>\n",
       "    </tr>\n",
       "    <tr>\n",
       "      <th>...</th>\n",
       "      <td>...</td>\n",
       "      <td>...</td>\n",
       "    </tr>\n",
       "    <tr>\n",
       "      <th>1432</th>\n",
       "      <td>read it manually instead of with gensim so we ...</td>\n",
       "      <td>https://github.com/plasticityai/magnitude/comm...</td>\n",
       "    </tr>\n",
       "    <tr>\n",
       "      <th>1433</th>\n",
       "      <td>u  the makevocab subcommand allows you to crea...</td>\n",
       "      <td>https://github.com/plasticityai/magnitude/comm...</td>\n",
       "    </tr>\n",
       "    <tr>\n",
       "      <th>1434</th>\n",
       "      <td>u  a classallennlpdatafieldsfieldfield is some...</td>\n",
       "      <td>https://github.com/plasticityai/magnitude/comm...</td>\n",
       "    </tr>\n",
       "    <tr>\n",
       "      <th>1435</th>\n",
       "      <td>u  an implementation of the openai transformer...</td>\n",
       "      <td>https://github.com/plasticityai/magnitude/comm...</td>\n",
       "    </tr>\n",
       "    <tr>\n",
       "      <th>1436</th>\n",
       "      <td>u  this is a tiny webapp for generating config...</td>\n",
       "      <td>https://github.com/plasticityai/magnitude/comm...</td>\n",
       "    </tr>\n",
       "  </tbody>\n",
       "</table>\n",
       "<p>1437 rows × 2 columns</p>\n",
       "</div>"
      ],
      "text/plain": [
       "                                                      F  \\\n",
       "0                 todo use modelforge to save the model   \n",
       "1     while serializing the model with joblib is oft...   \n",
       "2     todo if possible give a warning if model is al...   \n",
       "3     todo add test about initializing a model from ...   \n",
       "4                         fixme strmodel might contain    \n",
       "...                                                 ...   \n",
       "1432  read it manually instead of with gensim so we ...   \n",
       "1433  u  the makevocab subcommand allows you to crea...   \n",
       "1434  u  a classallennlpdatafieldsfieldfield is some...   \n",
       "1435  u  an implementation of the openai transformer...   \n",
       "1436  u  this is a tiny webapp for generating config...   \n",
       "\n",
       "                                                   link  \n",
       "0     https://github.com/src-d/ml/commit/4bdc930b3ed...  \n",
       "1     https://github.com/openml/openml-python/commit...  \n",
       "2     https://github.com/openml/openml-python/commit...  \n",
       "3     https://github.com/openml/openml-python/commit...  \n",
       "4     https://github.com/openml/openml-python/commit...  \n",
       "...                                                 ...  \n",
       "1432  https://github.com/plasticityai/magnitude/comm...  \n",
       "1433  https://github.com/plasticityai/magnitude/comm...  \n",
       "1434  https://github.com/plasticityai/magnitude/comm...  \n",
       "1435  https://github.com/plasticityai/magnitude/comm...  \n",
       "1436  https://github.com/plasticityai/magnitude/comm...  \n",
       "\n",
       "[1437 rows x 2 columns]"
      ]
     },
     "execution_count": 56,
     "metadata": {},
     "output_type": "execute_result"
    }
   ],
   "source": [
    "df_model"
   ]
  },
  {
   "cell_type": "code",
   "execution_count": 57,
   "id": "14c5de4d-955c-4523-b4b3-55da6b385107",
   "metadata": {},
   "outputs": [],
   "source": [
    "df_model.to_excel(\"Extracted data/df_model.xlsx\",index=False)"
   ]
  },
  {
   "cell_type": "code",
   "execution_count": 58,
   "id": "79c030f1-0e71-49a8-940e-dc4952a3624f",
   "metadata": {},
   "outputs": [],
   "source": [
    "#performance"
   ]
  },
  {
   "cell_type": "code",
   "execution_count": 59,
   "id": "72704056-37bf-491c-854d-b1d42891d002",
   "metadata": {},
   "outputs": [],
   "source": [
    "df_performance = df_unique[df_unique['F'].str.contains('performance', case=False, regex=True,na=False)]"
   ]
  },
  {
   "cell_type": "code",
   "execution_count": 60,
   "id": "5eee2c32-e234-4b00-96ba-0974076fe276",
   "metadata": {},
   "outputs": [],
   "source": [
    "df_performance.reset_index(inplace=True,drop=True)"
   ]
  },
  {
   "cell_type": "code",
   "execution_count": 61,
   "id": "64673d30-4121-4738-9589-dbeb8b2bf3dc",
   "metadata": {},
   "outputs": [
    {
     "data": {
      "text/html": [
       "<div>\n",
       "<style scoped>\n",
       "    .dataframe tbody tr th:only-of-type {\n",
       "        vertical-align: middle;\n",
       "    }\n",
       "\n",
       "    .dataframe tbody tr th {\n",
       "        vertical-align: top;\n",
       "    }\n",
       "\n",
       "    .dataframe thead th {\n",
       "        text-align: right;\n",
       "    }\n",
       "</style>\n",
       "<table border=\"1\" class=\"dataframe\">\n",
       "  <thead>\n",
       "    <tr style=\"text-align: right;\">\n",
       "      <th></th>\n",
       "      <th>F</th>\n",
       "      <th>link</th>\n",
       "    </tr>\n",
       "  </thead>\n",
       "  <tbody>\n",
       "    <tr>\n",
       "      <th>0</th>\n",
       "      <td>other example but it includes some basic perfo...</td>\n",
       "      <td>https://github.com/ageitgey/face_recognition/c...</td>\n",
       "    </tr>\n",
       "    <tr>\n",
       "      <th>1</th>\n",
       "      <td>metrics to assess performance on sequence labe...</td>\n",
       "      <td>https://github.com/chakki-works/seqeval/commit...</td>\n",
       "    </tr>\n",
       "    <tr>\n",
       "      <th>2</th>\n",
       "      <td>todo improve performance currently reads the w...</td>\n",
       "      <td>https://github.com/openml/openml-python/commit...</td>\n",
       "    </tr>\n",
       "    <tr>\n",
       "      <th>3</th>\n",
       "      <td>fetching evaluations      evalutions conta...</td>\n",
       "      <td>https://github.com/openml/openml-python/commit...</td>\n",
       "    </tr>\n",
       "    <tr>\n",
       "      <th>4</th>\n",
       "      <td>we shall now analyse how the performance of va...</td>\n",
       "      <td>https://github.com/openml/openml-python/commit...</td>\n",
       "    </tr>\n",
       "    <tr>\n",
       "      <th>...</th>\n",
       "      <td>...</td>\n",
       "      <td>...</td>\n",
       "    </tr>\n",
       "    <tr>\n",
       "      <th>339</th>\n",
       "      <td>todo performance optimize this by only creatin...</td>\n",
       "      <td>https://github.com/IDSIA/sacred/commit/cc9e6fb...</td>\n",
       "    </tr>\n",
       "    <tr>\n",
       "      <th>340</th>\n",
       "      <td>is added as it would likely degrade performance</td>\n",
       "      <td>https://github.com/pyannote/pyannote-audio/com...</td>\n",
       "    </tr>\n",
       "    <tr>\n",
       "      <th>341</th>\n",
       "      <td>theres performance issues with a large amount ...</td>\n",
       "      <td>https://github.com/jupyter-incubator/sparkmagi...</td>\n",
       "    </tr>\n",
       "    <tr>\n",
       "      <th>342</th>\n",
       "      <td>a productionquality purepython wsgi server wit...</td>\n",
       "      <td>https://github.com/DragonComputer/Dragonfire/c...</td>\n",
       "    </tr>\n",
       "    <tr>\n",
       "      <th>343</th>\n",
       "      <td>utility functions to speed up linear algebraic...</td>\n",
       "      <td>https://github.com/mne-tools/mne-python/commit...</td>\n",
       "    </tr>\n",
       "  </tbody>\n",
       "</table>\n",
       "<p>344 rows × 2 columns</p>\n",
       "</div>"
      ],
      "text/plain": [
       "                                                     F  \\\n",
       "0    other example but it includes some basic perfo...   \n",
       "1    metrics to assess performance on sequence labe...   \n",
       "2    todo improve performance currently reads the w...   \n",
       "3        fetching evaluations      evalutions conta...   \n",
       "4    we shall now analyse how the performance of va...   \n",
       "..                                                 ...   \n",
       "339  todo performance optimize this by only creatin...   \n",
       "340    is added as it would likely degrade performance   \n",
       "341  theres performance issues with a large amount ...   \n",
       "342  a productionquality purepython wsgi server wit...   \n",
       "343  utility functions to speed up linear algebraic...   \n",
       "\n",
       "                                                  link  \n",
       "0    https://github.com/ageitgey/face_recognition/c...  \n",
       "1    https://github.com/chakki-works/seqeval/commit...  \n",
       "2    https://github.com/openml/openml-python/commit...  \n",
       "3    https://github.com/openml/openml-python/commit...  \n",
       "4    https://github.com/openml/openml-python/commit...  \n",
       "..                                                 ...  \n",
       "339  https://github.com/IDSIA/sacred/commit/cc9e6fb...  \n",
       "340  https://github.com/pyannote/pyannote-audio/com...  \n",
       "341  https://github.com/jupyter-incubator/sparkmagi...  \n",
       "342  https://github.com/DragonComputer/Dragonfire/c...  \n",
       "343  https://github.com/mne-tools/mne-python/commit...  \n",
       "\n",
       "[344 rows x 2 columns]"
      ]
     },
     "execution_count": 61,
     "metadata": {},
     "output_type": "execute_result"
    }
   ],
   "source": [
    "df_performance"
   ]
  },
  {
   "cell_type": "code",
   "execution_count": 62,
   "id": "38604e36-8b4f-4710-94a6-4946e4fb7696",
   "metadata": {},
   "outputs": [],
   "source": [
    "df_performance.to_excel(\"Extracted data/df_performance.xlsx\",index=False)"
   ]
  },
  {
   "cell_type": "code",
   "execution_count": 63,
   "id": "1afc906d-1c8f-46d6-a566-ac1e1d5a8501",
   "metadata": {},
   "outputs": [],
   "source": [
    "# df_hyper, df_layer, df_duplicate, df_model, df_performance\n",
    "# Creating a new dataframe with the desired structure\n",
    "combined_df = pd.DataFrame()\n",
    "\n",
    "# Adding the first column with all the entries from each dataframe\n",
    "combined_df['Comments'] = pd.concat([df_hyper.iloc[:, 0], df_layer.iloc[:, 0],\n",
    "                                            df_duplicate.iloc[:, 0], df_model.iloc[:, 0],\n",
    "                                            df_performance.iloc[:, 0]], ignore_index=True)\n",
    "\n",
    "# Adding the additional columns with 1s and 0s based on the conditions\n",
    "combined_df['hyper'] = [1 if i < len(df_hyper) else 0 for i in range(len(combined_df))]\n",
    "combined_df['layer'] = [1 if len(df_hyper) <= i < len(df_hyper) + len(df_layer) else 0 for i in range(len(combined_df))]\n",
    "combined_df['duplicate'] = [1 if len(df_hyper) + len(df_layer) <= i < len(df_hyper) + len(df_layer) + len(df_duplicate) else 0 for i in range(len(combined_df))]\n",
    "combined_df['model'] = [1 if len(df_hyper) + len(df_layer) + len(df_duplicate) <= i < len(df_hyper) + len(df_layer) + len(df_duplicate) + len(df_model) else 0 for i in range(len(combined_df))]\n",
    "combined_df['performance'] = [1 if len(df_hyper) + len(df_layer) + len(df_duplicate) + len(df_model) <= i else 0 for i in range(len(combined_df))]\n"
   ]
  },
  {
   "cell_type": "code",
   "execution_count": 64,
   "id": "bcdd8169-8922-4a24-88b3-11bf8ce598f7",
   "metadata": {},
   "outputs": [],
   "source": [
    "# Words to exclude\n",
    "words_to_exclude = ['hyper', 'layer', 'duplicate', 'performance']\n",
    "\n",
    "# Filtering out rows containing specified words\n",
    "df_model = df_model[~df_model['F'].str.contains('|'.join(words_to_exclude), case=False)]\n",
    "df_model = df_model.head(400)"
   ]
  },
  {
   "cell_type": "code",
   "execution_count": 75,
   "id": "50485a8a-7c92-4607-969c-52e424992e7e",
   "metadata": {},
   "outputs": [
    {
     "data": {
      "image/png": "[encoded data removed]",
      "text/plain": [
       "<Figure size 640x480 with 1 Axes>"
      ]
     },
     "metadata": {},
     "output_type": "display_data"
    }
   ],
   "source": [
    "\n",
    "# Creating a list of dataframes\n",
    "dataframes = [df_hyper, df_layer, df_duplicate, df_model, df_performance]\n",
    "\n",
    "# Getting the lengths of each dataframe\n",
    "lengths = [len(df) for df in dataframes]\n",
    "\n",
    "# Creating a bar graph\n",
    "plt.bar(range(1, len(dataframes) + 1), lengths, tick_label=['hyper', 'layer', 'duplicate', 'model', 'performance'])\n",
    "plt.xlabel('DataFrames')\n",
    "plt.ylabel('Length')\n",
    "plt.title('Count of Each Records')\n",
    "plt.show()"
   ]
  },
  {
   "cell_type": "code",
   "execution_count": 66,
   "id": "e96b0c9c-acf4-44dd-b419-6ad904a0293d",
   "metadata": {},
   "outputs": [],
   "source": [
    "combined_df.to_excel('MLTD_NEW_apr24.xlsx',index=False)"
   ]
  },
  {
   "cell_type": "code",
   "execution_count": 67,
   "id": "90fc6e83-26f7-4f57-aa50-ab7295c682f5",
   "metadata": {},
   "outputs": [
    {
     "data": {
      "text/html": [
       "<div>\n",
       "<style scoped>\n",
       "    .dataframe tbody tr th:only-of-type {\n",
       "        vertical-align: middle;\n",
       "    }\n",
       "\n",
       "    .dataframe tbody tr th {\n",
       "        vertical-align: top;\n",
       "    }\n",
       "\n",
       "    .dataframe thead th {\n",
       "        text-align: right;\n",
       "    }\n",
       "</style>\n",
       "<table border=\"1\" class=\"dataframe\">\n",
       "  <thead>\n",
       "    <tr style=\"text-align: right;\">\n",
       "      <th></th>\n",
       "      <th>Comments</th>\n",
       "      <th>hyper</th>\n",
       "      <th>layer</th>\n",
       "      <th>duplicate</th>\n",
       "      <th>model</th>\n",
       "      <th>performance</th>\n",
       "    </tr>\n",
       "  </thead>\n",
       "  <tbody>\n",
       "    <tr>\n",
       "      <th>0</th>\n",
       "      <td>with hyperparameters functionname returns para...</td>\n",
       "      <td>1</td>\n",
       "      <td>0</td>\n",
       "      <td>0</td>\n",
       "      <td>0</td>\n",
       "      <td>0</td>\n",
       "    </tr>\n",
       "    <tr>\n",
       "      <th>1</th>\n",
       "      <td>perrone et al 2018      a tutorial on how to...</td>\n",
       "      <td>1</td>\n",
       "      <td>0</td>\n",
       "      <td>0</td>\n",
       "      <td>0</td>\n",
       "      <td>0</td>\n",
       "    </tr>\n",
       "    <tr>\n",
       "      <th>2</th>\n",
       "      <td>we can see all the hyperparameter names in the...</td>\n",
       "      <td>1</td>\n",
       "      <td>0</td>\n",
       "      <td>0</td>\n",
       "      <td>0</td>\n",
       "      <td>0</td>\n",
       "    </tr>\n",
       "    <tr>\n",
       "      <th>3</th>\n",
       "      <td>expert learning    this module regroups a vari...</td>\n",
       "      <td>1</td>\n",
       "      <td>0</td>\n",
       "      <td>0</td>\n",
       "      <td>0</td>\n",
       "      <td>0</td>\n",
       "    </tr>\n",
       "    <tr>\n",
       "      <th>4</th>\n",
       "      <td>fixme 2 assumes hyperthreading fix this properly</td>\n",
       "      <td>1</td>\n",
       "      <td>0</td>\n",
       "      <td>0</td>\n",
       "      <td>0</td>\n",
       "      <td>0</td>\n",
       "    </tr>\n",
       "    <tr>\n",
       "      <th>...</th>\n",
       "      <td>...</td>\n",
       "      <td>...</td>\n",
       "      <td>...</td>\n",
       "      <td>...</td>\n",
       "      <td>...</td>\n",
       "      <td>...</td>\n",
       "    </tr>\n",
       "    <tr>\n",
       "      <th>2530</th>\n",
       "      <td>todo performance optimize this by only creatin...</td>\n",
       "      <td>0</td>\n",
       "      <td>0</td>\n",
       "      <td>0</td>\n",
       "      <td>0</td>\n",
       "      <td>1</td>\n",
       "    </tr>\n",
       "    <tr>\n",
       "      <th>2531</th>\n",
       "      <td>is added as it would likely degrade performance</td>\n",
       "      <td>0</td>\n",
       "      <td>0</td>\n",
       "      <td>0</td>\n",
       "      <td>0</td>\n",
       "      <td>1</td>\n",
       "    </tr>\n",
       "    <tr>\n",
       "      <th>2532</th>\n",
       "      <td>theres performance issues with a large amount ...</td>\n",
       "      <td>0</td>\n",
       "      <td>0</td>\n",
       "      <td>0</td>\n",
       "      <td>0</td>\n",
       "      <td>1</td>\n",
       "    </tr>\n",
       "    <tr>\n",
       "      <th>2533</th>\n",
       "      <td>a productionquality purepython wsgi server wit...</td>\n",
       "      <td>0</td>\n",
       "      <td>0</td>\n",
       "      <td>0</td>\n",
       "      <td>0</td>\n",
       "      <td>1</td>\n",
       "    </tr>\n",
       "    <tr>\n",
       "      <th>2534</th>\n",
       "      <td>utility functions to speed up linear algebraic...</td>\n",
       "      <td>0</td>\n",
       "      <td>0</td>\n",
       "      <td>0</td>\n",
       "      <td>0</td>\n",
       "      <td>1</td>\n",
       "    </tr>\n",
       "  </tbody>\n",
       "</table>\n",
       "<p>2535 rows × 6 columns</p>\n",
       "</div>"
      ],
      "text/plain": [
       "                                               Comments  hyper  layer  \\\n",
       "0     with hyperparameters functionname returns para...      1      0   \n",
       "1       perrone et al 2018      a tutorial on how to...      1      0   \n",
       "2     we can see all the hyperparameter names in the...      1      0   \n",
       "3     expert learning    this module regroups a vari...      1      0   \n",
       "4      fixme 2 assumes hyperthreading fix this properly      1      0   \n",
       "...                                                 ...    ...    ...   \n",
       "2530  todo performance optimize this by only creatin...      0      0   \n",
       "2531    is added as it would likely degrade performance      0      0   \n",
       "2532  theres performance issues with a large amount ...      0      0   \n",
       "2533  a productionquality purepython wsgi server wit...      0      0   \n",
       "2534  utility functions to speed up linear algebraic...      0      0   \n",
       "\n",
       "      duplicate  model  performance  \n",
       "0             0      0            0  \n",
       "1             0      0            0  \n",
       "2             0      0            0  \n",
       "3             0      0            0  \n",
       "4             0      0            0  \n",
       "...         ...    ...          ...  \n",
       "2530          0      0            1  \n",
       "2531          0      0            1  \n",
       "2532          0      0            1  \n",
       "2533          0      0            1  \n",
       "2534          0      0            1  \n",
       "\n",
       "[2535 rows x 6 columns]"
      ]
     },
     "execution_count": 67,
     "metadata": {},
     "output_type": "execute_result"
    }
   ],
   "source": [
    "combined_df"
   ]
  },
  {
   "cell_type": "code",
   "execution_count": 68,
   "id": "e25b6999-c936-4803-b1e3-c83084318258",
   "metadata": {},
   "outputs": [],
   "source": [
    "import pandas as pd"
   ]
  },
  {
   "cell_type": "code",
   "execution_count": 69,
   "id": "691ab886-d422-49ce-be67-04d9464442aa",
   "metadata": {},
   "outputs": [],
   "source": [
    "df= pd.read_excel('MLTD.xlsx')"
   ]
  },
  {
   "cell_type": "code",
   "execution_count": 70,
   "id": "7ef5ab7a-f6da-4410-a0d3-50e96b98a5b1",
   "metadata": {},
   "outputs": [
    {
     "data": {
      "text/plain": [
       "129"
      ]
     },
     "execution_count": 70,
     "metadata": {},
     "output_type": "execute_result"
    }
   ],
   "source": [
    "(df['hyper'] == 1).sum()"
   ]
  },
  {
   "cell_type": "code",
   "execution_count": 71,
   "id": "634e4783-d294-41be-8910-5ddf48ab2199",
   "metadata": {},
   "outputs": [
    {
     "data": {
      "text/plain": [
       "420"
      ]
     },
     "execution_count": 71,
     "metadata": {},
     "output_type": "execute_result"
    }
   ],
   "source": [
    "(df['layer'] == 1).sum()"
   ]
  },
  {
   "cell_type": "code",
   "execution_count": 72,
   "id": "8e5a8c0e-ab26-478f-976f-856692466476",
   "metadata": {},
   "outputs": [
    {
     "data": {
      "text/plain": [
       "205"
      ]
     },
     "execution_count": 72,
     "metadata": {},
     "output_type": "execute_result"
    }
   ],
   "source": [
    "(df['duplicate'] == 1).sum()"
   ]
  },
  {
   "cell_type": "code",
   "execution_count": 73,
   "id": "3743156d-32a8-4390-ab5a-53cf1f54c08d",
   "metadata": {},
   "outputs": [
    {
     "data": {
      "text/plain": [
       "1437"
      ]
     },
     "execution_count": 73,
     "metadata": {},
     "output_type": "execute_result"
    }
   ],
   "source": [
    "(df['model'] == 1).sum()"
   ]
  },
  {
   "cell_type": "code",
   "execution_count": 74,
   "id": "87e2a328-4b97-4d89-b8e5-f027819c8e38",
   "metadata": {},
   "outputs": [
    {
     "data": {
      "text/plain": [
       "344"
      ]
     },
     "execution_count": 74,
     "metadata": {},
     "output_type": "execute_result"
    }
   ],
   "source": [
    "(df['performance'] == 1).sum()"
   ]
  },
  {
   "cell_type": "code",
   "execution_count": null,
   "id": "d7365c0d-7537-4084-b311-9c814033aed1",
   "metadata": {},
   "outputs": [],
   "source": []
  }
 ],
 "metadata": {
  "kernelspec": {
   "display_name": "Python 3 (ipykernel)",
   "language": "python",
   "name": "python3"
  },
  "language_info": {
   "codemirror_mode": {
    "name": "ipython",
    "version": 3
   },
   "file_extension": ".py",
   "mimetype": "text/x-python",
   "name": "python",
   "nbconvert_exporter": "python",
   "pygments_lexer": "ipython3",
   "version": "3.11.7"
  }
 },
 "nbformat": 4,
 "nbformat_minor": 5
}
