{
 "cells": [
  {
   "cell_type": "code",
   "execution_count": 1,
   "id": "24247ef4-a6fe-4bc6-bb08-d3ecf31d2ca7",
   "metadata": {},
   "outputs": [],
   "source": [
    "# Importing all the necessary libraries\n",
    "\n",
    "import pandas as pd\n",
    "import os, requests, json\n",
    "from dotenv.main import load_dotenv\n",
    "load_dotenv()\n",
    "from spacy.training.example import Example\n",
    "from spacy.util import minibatch\n",
    "import random\n",
    "import time\n",
    "import matplotlib.pyplot as plt\n",
    "import spacy\n",
    "from sklearn.metrics import classification_report"
   ]
  },
  {
   "cell_type": "code",
   "execution_count": 2,
   "id": "a7dfbb33-94c9-4737-aca1-67b4d78c2316",
   "metadata": {},
   "outputs": [],
   "source": [
    "train_data = pd.read_excel(\"MLTD.xlsx\")"
   ]
  },
  {
   "cell_type": "code",
   "execution_count": 3,
   "id": "ed8477eb-f8db-46d7-a242-5af7f76fa400",
   "metadata": {},
   "outputs": [
    {
     "data": {
      "text/html": [
       "<div>\n",
       "<style scoped>\n",
       "    .dataframe tbody tr th:only-of-type {\n",
       "        vertical-align: middle;\n",
       "    }\n",
       "\n",
       "    .dataframe tbody tr th {\n",
       "        vertical-align: top;\n",
       "    }\n",
       "\n",
       "    .dataframe thead th {\n",
       "        text-align: right;\n",
       "    }\n",
       "</style>\n",
       "<table border=\"1\" class=\"dataframe\">\n",
       "  <thead>\n",
       "    <tr style=\"text-align: right;\">\n",
       "      <th></th>\n",
       "      <th>Comments</th>\n",
       "      <th>hyper</th>\n",
       "      <th>layer</th>\n",
       "      <th>duplicate</th>\n",
       "      <th>model</th>\n",
       "      <th>performance</th>\n",
       "    </tr>\n",
       "  </thead>\n",
       "  <tbody>\n",
       "    <tr>\n",
       "      <th>0</th>\n",
       "      <td>Adjusting the hyper learning rate for the opt...</td>\n",
       "      <td>1</td>\n",
       "      <td>0</td>\n",
       "      <td>0</td>\n",
       "      <td>0</td>\n",
       "      <td>0</td>\n",
       "    </tr>\n",
       "    <tr>\n",
       "      <th>1</th>\n",
       "      <td>Tuning hyper batch size for model training ef...</td>\n",
       "      <td>1</td>\n",
       "      <td>0</td>\n",
       "      <td>0</td>\n",
       "      <td>0</td>\n",
       "      <td>0</td>\n",
       "    </tr>\n",
       "    <tr>\n",
       "      <th>2</th>\n",
       "      <td>Experimenting with hyper number of epochs to ...</td>\n",
       "      <td>1</td>\n",
       "      <td>0</td>\n",
       "      <td>0</td>\n",
       "      <td>0</td>\n",
       "      <td>0</td>\n",
       "    </tr>\n",
       "    <tr>\n",
       "      <th>3</th>\n",
       "      <td>Setting the hyper regularization parameter to...</td>\n",
       "      <td>1</td>\n",
       "      <td>0</td>\n",
       "      <td>0</td>\n",
       "      <td>0</td>\n",
       "      <td>0</td>\n",
       "    </tr>\n",
       "    <tr>\n",
       "      <th>4</th>\n",
       "      <td>Optimizing the hyper kernel size for the conv...</td>\n",
       "      <td>1</td>\n",
       "      <td>0</td>\n",
       "      <td>0</td>\n",
       "      <td>0</td>\n",
       "      <td>0</td>\n",
       "    </tr>\n",
       "    <tr>\n",
       "      <th>...</th>\n",
       "      <td>...</td>\n",
       "      <td>...</td>\n",
       "      <td>...</td>\n",
       "      <td>...</td>\n",
       "      <td>...</td>\n",
       "      <td>...</td>\n",
       "    </tr>\n",
       "    <tr>\n",
       "      <th>2530</th>\n",
       "      <td>todo performance optimize this by only creatin...</td>\n",
       "      <td>0</td>\n",
       "      <td>0</td>\n",
       "      <td>0</td>\n",
       "      <td>0</td>\n",
       "      <td>1</td>\n",
       "    </tr>\n",
       "    <tr>\n",
       "      <th>2531</th>\n",
       "      <td>is added as it would likely degrade performance</td>\n",
       "      <td>0</td>\n",
       "      <td>0</td>\n",
       "      <td>0</td>\n",
       "      <td>0</td>\n",
       "      <td>1</td>\n",
       "    </tr>\n",
       "    <tr>\n",
       "      <th>2532</th>\n",
       "      <td>theres performance issues with a large amount ...</td>\n",
       "      <td>0</td>\n",
       "      <td>0</td>\n",
       "      <td>0</td>\n",
       "      <td>0</td>\n",
       "      <td>1</td>\n",
       "    </tr>\n",
       "    <tr>\n",
       "      <th>2533</th>\n",
       "      <td>a productionquality purepython wsgi server wit...</td>\n",
       "      <td>0</td>\n",
       "      <td>0</td>\n",
       "      <td>0</td>\n",
       "      <td>0</td>\n",
       "      <td>1</td>\n",
       "    </tr>\n",
       "    <tr>\n",
       "      <th>2534</th>\n",
       "      <td>utility functions to speed up linear algebraic...</td>\n",
       "      <td>0</td>\n",
       "      <td>0</td>\n",
       "      <td>0</td>\n",
       "      <td>0</td>\n",
       "      <td>1</td>\n",
       "    </tr>\n",
       "  </tbody>\n",
       "</table>\n",
       "<p>2535 rows × 6 columns</p>\n",
       "</div>"
      ],
      "text/plain": [
       "                                               Comments  hyper  layer  \\\n",
       "0      Adjusting the hyper learning rate for the opt...      1      0   \n",
       "1      Tuning hyper batch size for model training ef...      1      0   \n",
       "2      Experimenting with hyper number of epochs to ...      1      0   \n",
       "3      Setting the hyper regularization parameter to...      1      0   \n",
       "4      Optimizing the hyper kernel size for the conv...      1      0   \n",
       "...                                                 ...    ...    ...   \n",
       "2530  todo performance optimize this by only creatin...      0      0   \n",
       "2531    is added as it would likely degrade performance      0      0   \n",
       "2532  theres performance issues with a large amount ...      0      0   \n",
       "2533  a productionquality purepython wsgi server wit...      0      0   \n",
       "2534  utility functions to speed up linear algebraic...      0      0   \n",
       "\n",
       "      duplicate  model  performance  \n",
       "0             0      0            0  \n",
       "1             0      0            0  \n",
       "2             0      0            0  \n",
       "3             0      0            0  \n",
       "4             0      0            0  \n",
       "...         ...    ...          ...  \n",
       "2530          0      0            1  \n",
       "2531          0      0            1  \n",
       "2532          0      0            1  \n",
       "2533          0      0            1  \n",
       "2534          0      0            1  \n",
       "\n",
       "[2535 rows x 6 columns]"
      ]
     },
     "execution_count": 3,
     "metadata": {},
     "output_type": "execute_result"
    }
   ],
   "source": [
    "train_data"
   ]
  },
  {
   "cell_type": "code",
   "execution_count": 4,
   "id": "841675a9-b0e1-443a-a450-21eeee31d3c5",
   "metadata": {},
   "outputs": [
    {
     "name": "stdout",
     "output_type": "stream",
     "text": [
      "hyper\n",
      "0    0.949112\n",
      "1    0.050888\n",
      "Name: hyper, dtype: float64\n",
      "----------------------------------------------------------------------------------------------------\n",
      "layer\n",
      "0    0.83432\n",
      "1    0.16568\n",
      "Name: layer, dtype: float64\n",
      "----------------------------------------------------------------------------------------------------\n",
      "duplicate\n",
      "0    0.919132\n",
      "1    0.080868\n",
      "Name: duplicate, dtype: float64\n",
      "----------------------------------------------------------------------------------------------------\n",
      "model\n",
      "1    0.566864\n",
      "0    0.433136\n",
      "Name: model, dtype: float64\n",
      "----------------------------------------------------------------------------------------------------\n",
      "performance\n",
      "0    0.8643\n",
      "1    0.1357\n",
      "Name: performance, dtype: float64\n",
      "----------------------------------------------------------------------------------------------------\n"
     ]
    }
   ],
   "source": [
    "for col in list(train_data.columns)[1:]:\n",
    "    print(col)\n",
    "    print(train_data[col].value_counts()/train_data[col].value_counts().sum())\n",
    "    print(\"-\"*100)"
   ]
  },
  {
   "cell_type": "code",
   "execution_count": 5,
   "id": "03a26095-4be2-4d32-a1ec-d90bcf157846",
   "metadata": {},
   "outputs": [
    {
     "name": "stdout",
     "output_type": "stream",
     "text": [
      "hyper\n",
      "0    0.949211\n",
      "1    0.050789\n",
      "Name: hyper, dtype: float64\n",
      "----------------------------------------------------------------------------------------------------\n",
      "layer\n",
      "0    0.83432\n",
      "1    0.16568\n",
      "Name: layer, dtype: float64\n",
      "----------------------------------------------------------------------------------------------------\n",
      "duplicate\n",
      "0    0.919132\n",
      "1    0.080868\n",
      "Name: duplicate, dtype: float64\n",
      "----------------------------------------------------------------------------------------------------\n",
      "model\n",
      "1    0.567061\n",
      "0    0.432939\n",
      "Name: model, dtype: float64\n",
      "----------------------------------------------------------------------------------------------------\n",
      "performance\n",
      "0    0.864398\n",
      "1    0.135602\n",
      "Name: performance, dtype: float64\n",
      "----------------------------------------------------------------------------------------------------\n"
     ]
    }
   ],
   "source": [
    "from sklearn.model_selection import train_test_split\n",
    "\n",
    "train, test = train_test_split(train_data, test_size=0.2, stratify=train_data[['hyper', 'layer', 'duplicate','model','performance']])\n",
    "for col in list(train.columns)[1:]:\n",
    "    print(col)\n",
    "    print(train[col].value_counts()/train[col].value_counts().sum())\n",
    "    print(\"-\"*100)"
   ]
  },
  {
   "cell_type": "code",
   "execution_count": 6,
   "id": "ee54a595-6f54-4e67-8418-9a56e01d38d9",
   "metadata": {},
   "outputs": [
    {
     "name": "stdout",
     "output_type": "stream",
     "text": [
      "hyper\n",
      "0    0.948718\n",
      "1    0.051282\n",
      "Name: hyper, dtype: float64\n",
      "----------------------------------------------------------------------------------------------------\n",
      "layer\n",
      "0    0.83432\n",
      "1    0.16568\n",
      "Name: layer, dtype: float64\n",
      "----------------------------------------------------------------------------------------------------\n",
      "duplicate\n",
      "0    0.919132\n",
      "1    0.080868\n",
      "Name: duplicate, dtype: float64\n",
      "----------------------------------------------------------------------------------------------------\n",
      "model\n",
      "1    0.566075\n",
      "0    0.433925\n",
      "Name: model, dtype: float64\n",
      "----------------------------------------------------------------------------------------------------\n",
      "performance\n",
      "0    0.863905\n",
      "1    0.136095\n",
      "Name: performance, dtype: float64\n",
      "----------------------------------------------------------------------------------------------------\n"
     ]
    }
   ],
   "source": [
    "for col in list(test.columns)[1:]:\n",
    "    print(col)\n",
    "    print(test[col].value_counts()/test[col].value_counts().sum())\n",
    "    print(\"-\"*100)"
   ]
  },
  {
   "cell_type": "code",
   "execution_count": 7,
   "id": "0d8077bc-75c5-44ef-bbf1-764dbb2c76bc",
   "metadata": {},
   "outputs": [],
   "source": [
    "train.set_index('Comments',inplace=True)"
   ]
  },
  {
   "cell_type": "code",
   "execution_count": 8,
   "id": "16782b5e-b55d-4fca-be69-46a1de59b57f",
   "metadata": {},
   "outputs": [],
   "source": [
    "train_data = train[train==1].stack().reset_index().drop(0, axis=1)"
   ]
  },
  {
   "cell_type": "code",
   "execution_count": 9,
   "id": "6adb80b6-b7be-44cd-9112-fb0530c6c694",
   "metadata": {},
   "outputs": [],
   "source": [
    "## add textcat_multilabel to nlp.add_pipe\n",
    "import spacy\n",
    "nlp = spacy.blank('en')\n",
    "textcat = nlp.add_pipe(\"textcat_multilabel\", last=True)\n",
    "## add your label\n",
    "for i in train_data['level_1'].unique():\n",
    "    textcat.add_label(i)\n"
   ]
  },
  {
   "cell_type": "code",
   "execution_count": 10,
   "id": "493f7074-20df-4ee9-9f89-feebef1cb8c5",
   "metadata": {},
   "outputs": [],
   "source": [
    "train_data_modified = []\n",
    "for idx, row in train_data.iterrows():\n",
    "    labels = {\"hyper\":False, \"layer\":False,\"duplicate\":False,\"model\":False, \"performance\":False}\n",
    "    \n",
    "    labels[row['level_1']] = True\n",
    "    \n",
    "    tup = (row['Comments'], {\"cats\":labels})\n",
    "    train_data_modified.append(tup)"
   ]
  },
  {
   "cell_type": "code",
   "execution_count": 11,
   "id": "d2c332ad-b75d-4669-8d38-57d18350bcbb",
   "metadata": {},
   "outputs": [],
   "source": [
    "train_examples = []\n",
    "\n",
    "for text, annotations in train_data_modified:\n",
    "    train_examples.append(Example.from_dict(nlp.make_doc(text), annotations))"
   ]
  },
  {
   "cell_type": "code",
   "execution_count": 12,
   "id": "9f51f680-ed7e-4791-839b-571ddd7a4801",
   "metadata": {},
   "outputs": [
    {
     "data": {
      "text/plain": [
       "<thinc.optimizers.Optimizer at 0x31bc1d6c0>"
      ]
     },
     "execution_count": 12,
     "metadata": {},
     "output_type": "execute_result"
    }
   ],
   "source": [
    "nlp.initialize()"
   ]
  },
  {
   "cell_type": "code",
   "execution_count": 13,
   "id": "abef20b3-45f6-4ebf-ba34-4fd99f3d1497",
   "metadata": {},
   "outputs": [
    {
     "name": "stdout",
     "output_type": "stream",
     "text": [
      "0 <----> {'textcat_multilabel': 16.368647577255615}\n",
      "1 <----> {'textcat_multilabel': 7.8234638501689915}\n",
      "2 <----> {'textcat_multilabel': 5.943508758386088}\n",
      "3 <----> {'textcat_multilabel': 5.23469033325091}\n",
      "4 <----> {'textcat_multilabel': 5.236597296152468}\n",
      "5 <----> {'textcat_multilabel': 5.203903544890636}\n",
      "6 <----> {'textcat_multilabel': 4.673333872134208}\n",
      "7 <----> {'textcat_multilabel': 4.635924311513008}\n",
      "8 <----> {'textcat_multilabel': 4.272245184220083}\n",
      "9 <----> {'textcat_multilabel': 4.2968587444565856}\n",
      "10 <----> {'textcat_multilabel': 4.087515916230586}\n",
      "11 <----> {'textcat_multilabel': 4.0521949332651275}\n",
      "12 <----> {'textcat_multilabel': 3.8078337496244785}\n",
      "13 <----> {'textcat_multilabel': 3.798806857183081}\n",
      "14 <----> {'textcat_multilabel': 3.6043009184277253}\n",
      "15 <----> {'textcat_multilabel': 3.8276733571128716}\n",
      "16 <----> {'textcat_multilabel': 3.5788411723615354}\n",
      "17 <----> {'textcat_multilabel': 3.690019433296584}\n",
      "18 <----> {'textcat_multilabel': 3.4182198793321277}\n",
      "19 <----> {'textcat_multilabel': 3.3801005495724894}\n",
      "20 <----> {'textcat_multilabel': 3.24977824284133}\n",
      "21 <----> {'textcat_multilabel': 3.447530356889729}\n",
      "22 <----> {'textcat_multilabel': 3.407359709458433}\n",
      "23 <----> {'textcat_multilabel': 3.561223226369293}\n",
      "24 <----> {'textcat_multilabel': 3.303511784923103}\n",
      "25 <----> {'textcat_multilabel': 3.1808630363893826}\n",
      "26 <----> {'textcat_multilabel': 3.194738770564072}\n",
      "27 <----> {'textcat_multilabel': 3.252984710202327}\n",
      "28 <----> {'textcat_multilabel': 3.0567711661860812}\n",
      "29 <----> {'textcat_multilabel': 3.2102318082816055}\n",
      "30 <----> {'textcat_multilabel': 3.085805350805458}\n",
      "31 <----> {'textcat_multilabel': 3.0882934527753605}\n",
      "32 <----> {'textcat_multilabel': 3.209449579526108}\n",
      "33 <----> {'textcat_multilabel': 3.0892619572441617}\n",
      "34 <----> {'textcat_multilabel': 3.0885814317127824}\n",
      "35 <----> {'textcat_multilabel': 3.220557257683595}\n",
      "36 <----> {'textcat_multilabel': 3.244662266621617}\n",
      "37 <----> {'textcat_multilabel': 3.104039413860164}\n",
      "38 <----> {'textcat_multilabel': 3.044436139202844}\n",
      "39 <----> {'textcat_multilabel': 3.1444100332232665}\n",
      "40 <----> {'textcat_multilabel': 3.001289060554427}\n",
      "41 <----> {'textcat_multilabel': 3.2041079307155087}\n",
      "42 <----> {'textcat_multilabel': 3.0417710786748557}\n",
      "43 <----> {'textcat_multilabel': 2.9044622413105117}\n",
      "44 <----> {'textcat_multilabel': 2.91510225236334}\n",
      "45 <----> {'textcat_multilabel': 3.0176927032623553}\n",
      "46 <----> {'textcat_multilabel': 3.0621380135312393}\n",
      "47 <----> {'textcat_multilabel': 2.9307670661737575}\n",
      "48 <----> {'textcat_multilabel': 2.979406123408353}\n",
      "49 <----> {'textcat_multilabel': 2.960470411715505}\n"
     ]
    }
   ],
   "source": [
    "losses_p = []\n",
    "\n",
    "for i in range(50): # Number of training iterations\n",
    "    random.shuffle(train_examples)\n",
    "    losses = {}\n",
    "    for batch in minibatch(train_examples, size=8): # Batch size\n",
    "        nlp.update(batch, losses=losses) # Dropout rate\n",
    "    print(i, \"<---->\", losses)\n",
    "    losses_p.append(losses['textcat_multilabel'])"
   ]
  },
  {
   "cell_type": "code",
   "execution_count": 14,
   "id": "1f005198-adc8-4769-bebb-134ffa583992",
   "metadata": {},
   "outputs": [
    {
     "data": {
      "image/png": "[encoded data removed]",
      "text/plain": [
       "<Figure size 640x480 with 1 Axes>"
      ]
     },
     "metadata": {},
     "output_type": "display_data"
    }
   ],
   "source": [
    "plt.plot(losses_p)\n",
    "plt.title('Losses Per Epoch')\n",
    "plt.xlabel('No of Epochs')\n",
    "plt.ylabel('Loss');"
   ]
  },
  {
   "cell_type": "code",
   "execution_count": 15,
   "id": "908f0f64-a723-4023-9d85-4d77af837889",
   "metadata": {},
   "outputs": [],
   "source": [
    "nlp.to_disk('my_model_no_dropout')"
   ]
  },
  {
   "cell_type": "code",
   "execution_count": 16,
   "id": "836e4e9b-b71e-4627-9cf0-d5f7cf20c2e6",
   "metadata": {},
   "outputs": [
    {
     "data": {
      "text/html": [
       "<div>\n",
       "<style scoped>\n",
       "    .dataframe tbody tr th:only-of-type {\n",
       "        vertical-align: middle;\n",
       "    }\n",
       "\n",
       "    .dataframe tbody tr th {\n",
       "        vertical-align: top;\n",
       "    }\n",
       "\n",
       "    .dataframe thead th {\n",
       "        text-align: right;\n",
       "    }\n",
       "</style>\n",
       "<table border=\"1\" class=\"dataframe\">\n",
       "  <thead>\n",
       "    <tr style=\"text-align: right;\">\n",
       "      <th></th>\n",
       "      <th>Comments</th>\n",
       "      <th>hyper</th>\n",
       "      <th>layer</th>\n",
       "      <th>duplicate</th>\n",
       "      <th>model</th>\n",
       "      <th>performance</th>\n",
       "    </tr>\n",
       "  </thead>\n",
       "  <tbody>\n",
       "    <tr>\n",
       "      <th>2096</th>\n",
       "      <td>todo this test is a little awkward the smiles2...</td>\n",
       "      <td>0</td>\n",
       "      <td>0</td>\n",
       "      <td>0</td>\n",
       "      <td>1</td>\n",
       "      <td>0</td>\n",
       "    </tr>\n",
       "    <tr>\n",
       "      <th>1728</th>\n",
       "      <td>todo fix and add model name to supervised</td>\n",
       "      <td>0</td>\n",
       "      <td>0</td>\n",
       "      <td>0</td>\n",
       "      <td>1</td>\n",
       "      <td>0</td>\n",
       "    </tr>\n",
       "    <tr>\n",
       "      <th>861</th>\n",
       "      <td>the hyphenationsyllabification algorithm is ...</td>\n",
       "      <td>0</td>\n",
       "      <td>0</td>\n",
       "      <td>0</td>\n",
       "      <td>1</td>\n",
       "      <td>0</td>\n",
       "    </tr>\n",
       "    <tr>\n",
       "      <th>1059</th>\n",
       "      <td>the codelearn module provides tools that mak...</td>\n",
       "      <td>0</td>\n",
       "      <td>0</td>\n",
       "      <td>0</td>\n",
       "      <td>1</td>\n",
       "      <td>0</td>\n",
       "    </tr>\n",
       "    <tr>\n",
       "      <th>571</th>\n",
       "      <td>todo this class is mostly duplicate from evalu...</td>\n",
       "      <td>0</td>\n",
       "      <td>0</td>\n",
       "      <td>1</td>\n",
       "      <td>0</td>\n",
       "      <td>0</td>\n",
       "    </tr>\n",
       "    <tr>\n",
       "      <th>...</th>\n",
       "      <td>...</td>\n",
       "      <td>...</td>\n",
       "      <td>...</td>\n",
       "      <td>...</td>\n",
       "      <td>...</td>\n",
       "      <td>...</td>\n",
       "    </tr>\n",
       "    <tr>\n",
       "      <th>2502</th>\n",
       "      <td>work around torcheinsum performance issues</td>\n",
       "      <td>0</td>\n",
       "      <td>0</td>\n",
       "      <td>0</td>\n",
       "      <td>0</td>\n",
       "      <td>1</td>\n",
       "    </tr>\n",
       "    <tr>\n",
       "      <th>1261</th>\n",
       "      <td>model fitting on imbalanced dataset and co...</td>\n",
       "      <td>0</td>\n",
       "      <td>0</td>\n",
       "      <td>0</td>\n",
       "      <td>1</td>\n",
       "      <td>0</td>\n",
       "    </tr>\n",
       "    <tr>\n",
       "      <th>72</th>\n",
       "      <td>Selecting the hyper boosting type for model t...</td>\n",
       "      <td>1</td>\n",
       "      <td>0</td>\n",
       "      <td>0</td>\n",
       "      <td>0</td>\n",
       "      <td>0</td>\n",
       "    </tr>\n",
       "    <tr>\n",
       "      <th>90</th>\n",
       "      <td>Selecting the hyper dimensionality_reduction ...</td>\n",
       "      <td>1</td>\n",
       "      <td>0</td>\n",
       "      <td>0</td>\n",
       "      <td>0</td>\n",
       "      <td>0</td>\n",
       "    </tr>\n",
       "    <tr>\n",
       "      <th>31</th>\n",
       "      <td>Determining the hyper scale of initialization...</td>\n",
       "      <td>1</td>\n",
       "      <td>0</td>\n",
       "      <td>0</td>\n",
       "      <td>0</td>\n",
       "      <td>0</td>\n",
       "    </tr>\n",
       "  </tbody>\n",
       "</table>\n",
       "<p>507 rows × 6 columns</p>\n",
       "</div>"
      ],
      "text/plain": [
       "                                               Comments  hyper  layer  \\\n",
       "2096  todo this test is a little awkward the smiles2...      0      0   \n",
       "1728          todo fix and add model name to supervised      0      0   \n",
       "861     the hyphenationsyllabification algorithm is ...      0      0   \n",
       "1059    the codelearn module provides tools that mak...      0      0   \n",
       "571   todo this class is mostly duplicate from evalu...      0      0   \n",
       "...                                                 ...    ...    ...   \n",
       "2502         work around torcheinsum performance issues      0      0   \n",
       "1261      model fitting on imbalanced dataset and co...      0      0   \n",
       "72     Selecting the hyper boosting type for model t...      1      0   \n",
       "90     Selecting the hyper dimensionality_reduction ...      1      0   \n",
       "31     Determining the hyper scale of initialization...      1      0   \n",
       "\n",
       "      duplicate  model  performance  \n",
       "2096          0      1            0  \n",
       "1728          0      1            0  \n",
       "861           0      1            0  \n",
       "1059          0      1            0  \n",
       "571           1      0            0  \n",
       "...         ...    ...          ...  \n",
       "2502          0      0            1  \n",
       "1261          0      1            0  \n",
       "72            0      0            0  \n",
       "90            0      0            0  \n",
       "31            0      0            0  \n",
       "\n",
       "[507 rows x 6 columns]"
      ]
     },
     "execution_count": 16,
     "metadata": {},
     "output_type": "execute_result"
    }
   ],
   "source": [
    "test"
   ]
  },
  {
   "cell_type": "code",
   "execution_count": 17,
   "id": "1dc3946d-d7c4-4141-a6a3-fda97db61070",
   "metadata": {},
   "outputs": [],
   "source": [
    "test.set_index('Comments',inplace=True)"
   ]
  },
  {
   "cell_type": "code",
   "execution_count": 18,
   "id": "71e8d6e1-a019-41ea-b242-24846b4be344",
   "metadata": {},
   "outputs": [],
   "source": [
    "test = test[test==1].stack().reset_index().drop(0, axis=1)"
   ]
  },
  {
   "cell_type": "code",
   "execution_count": 19,
   "id": "a29d0089-24a7-48d6-8e0a-59f39cd374a6",
   "metadata": {},
   "outputs": [],
   "source": [
    "test['Prediction'] = ''"
   ]
  },
  {
   "cell_type": "code",
   "execution_count": 20,
   "id": "b97cbf6e-2a6e-445e-9eb8-dc4a039136b2",
   "metadata": {},
   "outputs": [],
   "source": [
    "nlp = spacy.load('my_model_no_dropout')\n",
    "for idx, row in test.iterrows():\n",
    "        comment = test.loc[idx, 'Comments']\n",
    "        doc = nlp(comment)\n",
    "        preds = sorted(doc.cats.items(), key = lambda kv: -kv[1])[0][0]\n",
    "        test.loc[idx, 'Prediction'] = preds"
   ]
  },
  {
   "cell_type": "code",
   "execution_count": 21,
   "id": "5c7653d5-223c-4f2d-8925-64e200f4fde7",
   "metadata": {},
   "outputs": [
    {
     "name": "stdout",
     "output_type": "stream",
     "text": [
      "              precision    recall  f1-score   support\n",
      "\n",
      "   duplicate       0.90      0.88      0.89        41\n",
      "       hyper       1.00      0.88      0.94        26\n",
      "       layer       0.84      0.88      0.86        84\n",
      "       model       0.92      0.93      0.92       287\n",
      " performance       0.78      0.75      0.76        69\n",
      "\n",
      "    accuracy                           0.89       507\n",
      "   macro avg       0.89      0.86      0.88       507\n",
      "weighted avg       0.89      0.89      0.89       507\n",
      "\n"
     ]
    }
   ],
   "source": [
    "from sklearn.metrics import classification_report\n",
    "print(classification_report(test['level_1'], test['Prediction']))"
   ]
  },
  {
   "cell_type": "code",
   "execution_count": 40,
   "id": "7e73a80f-80e1-4016-b5a7-036f28b08c27",
   "metadata": {},
   "outputs": [
    {
     "name": "stdout",
     "output_type": "stream",
     "text": [
      "[[ 36   0   2   1   2]\n",
      " [  0  23   2   0   1]\n",
      " [  0   0  74   7   3]\n",
      " [  3   0   9 266   9]\n",
      " [  1   0   1  15  52]]\n"
     ]
    }
   ],
   "source": [
    "from sklearn.metrics import confusion_matrix\n",
    "print(confusion_matrix(test['level_1'], test['Prediction']))"
   ]
  },
  {
   "cell_type": "code",
   "execution_count": 41,
   "id": "8e1051f8-7845-405a-babe-b72eb5695127",
   "metadata": {},
   "outputs": [
    {
     "name": "stdout",
     "output_type": "stream",
     "text": [
      "Confusion Matrix:\n",
      "             duplicate  hyper  layer  model  performance\n",
      "duplicate           36      0      2      1            2\n",
      "hyper                0     23      2      0            1\n",
      "layer                0      0     74      7            3\n",
      "model                3      0      9    266            9\n",
      "performance          1      0      1     15           52\n"
     ]
    }
   ],
   "source": [
    "import numpy as np\n",
    "import pandas as pd\n",
    "from sklearn.metrics import confusion_matrix\n",
    "\n",
    "# Your code to obtain the confusion matrix\n",
    "conf_matrix = confusion_matrix(test['level_1'], test['Prediction'])\n",
    "\n",
    "# Get the class names\n",
    "class_names = np.unique(test['level_1'])\n",
    "\n",
    "# Create a DataFrame with the confusion matrix values and class names\n",
    "conf_matrix_df = pd.DataFrame(conf_matrix, index=class_names, columns=class_names)\n",
    "\n",
    "print(\"Confusion Matrix:\")\n",
    "print(conf_matrix_df)"
   ]
  },
  {
   "cell_type": "code",
   "execution_count": null,
   "id": "0b364367-ea28-4a47-ac6b-b86453f5ba51",
   "metadata": {},
   "outputs": [],
   "source": []
  }
 ],
 "metadata": {
  "kernelspec": {
   "display_name": "Python 3 (ipykernel)",
   "language": "python",
   "name": "python3"
  },
  "language_info": {
   "codemirror_mode": {
    "name": "ipython",
    "version": 3
   },
   "file_extension": ".py",
   "mimetype": "text/x-python",
   "name": "python",
   "nbconvert_exporter": "python",
   "pygments_lexer": "ipython3",
   "version": "3.11.9"
  }
 },
 "nbformat": 4,
 "nbformat_minor": 5
}
